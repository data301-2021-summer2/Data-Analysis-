{
 "cells": [
  {
   "cell_type": "code",
   "execution_count": 15,
   "id": "e3457e96-1ddc-4108-b73c-e8866b79c652",
   "metadata": {},
   "outputs": [],
   "source": [
    "import pandas as pd\n",
    "import numpy as nm\n",
    "import seaborn as sns\n",
    "import matplotlib.pylab as plt"
   ]
  },
  {
   "cell_type": "code",
   "execution_count": 1,
   "id": "ab09456c-d60a-4f8f-8de9-8836ee37bc3d",
   "metadata": {},
   "outputs": [
    {
     "name": "stdout",
     "output_type": "stream",
     "text": [
      "   Unnamed: 0  Year      Month       State                Location  \\\n",
      "0         638  1998       June    New York  Private Home/Residence   \n",
      "1         669  1998       July     Arizona              Restaurant   \n",
      "2         955  1998  September    Maryland              Restaurant   \n",
      "3        1319  1999    January  California              Restaurant   \n",
      "4        1321  1999    January  California              Restaurant   \n",
      "\n",
      "                                       Food Ingredient  \\\n",
      "0                      Chicken, Unspecified    Chicken   \n",
      "1                            Chile Rellenos        Egg   \n",
      "2             Multiple Cheeses, Unspecified     Cheese   \n",
      "3                             Eggs Benedict        Egg   \n",
      "4  Chile Relleno, Unspecified; Rice, Yellow   Egg; Egg   \n",
      "\n",
      "                  Species Serotype/Genotype     Status  Illnesses  \\\n",
      "0     Salmonella enterica       Typhimurium  Confirmed          4   \n",
      "1     Salmonella enterica       Enteritidis  Confirmed         58   \n",
      "2  Norovirus genogroup II           Unknown  Confirmed        258   \n",
      "3     Salmonella enterica       Enteritidis  Confirmed          3   \n",
      "4     Salmonella enterica       Enteritidis  Confirmed         31   \n",
      "\n",
      "   Hospitalizations  Fatalities  \n",
      "0               3.0         0.0  \n",
      "1              11.0         0.0  \n",
      "2               4.0         0.0  \n",
      "3               0.0         0.0  \n",
      "4               6.0         0.0  \n"
     ]
    }
   ],
   "source": [
    "# Step 1:  Loading the csv file\n",
    "import pandas as pd\n",
    "df = pd.read_csv('/Users/aashishchilwal/Desktop/group32-project/data/raw/outbreaks.csv')\n",
    "\n",
    "# Step 2.1: Retrieving basic information of the data (head)\n",
    "print(df.head())"
   ]
  },
  {
   "cell_type": "code",
   "execution_count": 9,
   "id": "130b06e0-fb58-4fb6-8cc4-47f1c7254063",
   "metadata": {},
   "outputs": [
    {
     "data": {
      "text/html": [
       "<div>\n",
       "<style scoped>\n",
       "    .dataframe tbody tr th:only-of-type {\n",
       "        vertical-align: middle;\n",
       "    }\n",
       "\n",
       "    .dataframe tbody tr th {\n",
       "        vertical-align: top;\n",
       "    }\n",
       "\n",
       "    .dataframe thead th {\n",
       "        text-align: right;\n",
       "    }\n",
       "</style>\n",
       "<table border=\"1\" class=\"dataframe\">\n",
       "  <thead>\n",
       "    <tr style=\"text-align: right;\">\n",
       "      <th></th>\n",
       "      <th>Year</th>\n",
       "      <th>Month</th>\n",
       "      <th>State</th>\n",
       "      <th>Location</th>\n",
       "      <th>Food</th>\n",
       "      <th>Ingredient</th>\n",
       "      <th>Species</th>\n",
       "      <th>Serotype/Genotype</th>\n",
       "      <th>Status</th>\n",
       "      <th>Illnesses</th>\n",
       "      <th>Hospitalizations</th>\n",
       "      <th>Fatalities</th>\n",
       "    </tr>\n",
       "  </thead>\n",
       "  <tbody>\n",
       "    <tr>\n",
       "      <th>0</th>\n",
       "      <td>1998</td>\n",
       "      <td>June</td>\n",
       "      <td>New York</td>\n",
       "      <td>Private Home/Residence</td>\n",
       "      <td>Chicken, Unspecified</td>\n",
       "      <td>Chicken</td>\n",
       "      <td>Salmonella enterica</td>\n",
       "      <td>Typhimurium</td>\n",
       "      <td>Confirmed</td>\n",
       "      <td>4</td>\n",
       "      <td>3.0</td>\n",
       "      <td>0.0</td>\n",
       "    </tr>\n",
       "    <tr>\n",
       "      <th>1</th>\n",
       "      <td>1998</td>\n",
       "      <td>July</td>\n",
       "      <td>Arizona</td>\n",
       "      <td>Restaurant</td>\n",
       "      <td>Chile Rellenos</td>\n",
       "      <td>Egg</td>\n",
       "      <td>Salmonella enterica</td>\n",
       "      <td>Enteritidis</td>\n",
       "      <td>Confirmed</td>\n",
       "      <td>58</td>\n",
       "      <td>11.0</td>\n",
       "      <td>0.0</td>\n",
       "    </tr>\n",
       "    <tr>\n",
       "      <th>2</th>\n",
       "      <td>1998</td>\n",
       "      <td>September</td>\n",
       "      <td>Maryland</td>\n",
       "      <td>Restaurant</td>\n",
       "      <td>Multiple Cheeses, Unspecified</td>\n",
       "      <td>Cheese</td>\n",
       "      <td>Norovirus genogroup II</td>\n",
       "      <td>Unknown</td>\n",
       "      <td>Confirmed</td>\n",
       "      <td>258</td>\n",
       "      <td>4.0</td>\n",
       "      <td>0.0</td>\n",
       "    </tr>\n",
       "    <tr>\n",
       "      <th>3</th>\n",
       "      <td>1999</td>\n",
       "      <td>January</td>\n",
       "      <td>California</td>\n",
       "      <td>Restaurant</td>\n",
       "      <td>Eggs Benedict</td>\n",
       "      <td>Egg</td>\n",
       "      <td>Salmonella enterica</td>\n",
       "      <td>Enteritidis</td>\n",
       "      <td>Confirmed</td>\n",
       "      <td>3</td>\n",
       "      <td>0.0</td>\n",
       "      <td>0.0</td>\n",
       "    </tr>\n",
       "    <tr>\n",
       "      <th>4</th>\n",
       "      <td>1999</td>\n",
       "      <td>January</td>\n",
       "      <td>California</td>\n",
       "      <td>Restaurant</td>\n",
       "      <td>Chile Relleno, Unspecified; Rice, Yellow</td>\n",
       "      <td>Egg; Egg</td>\n",
       "      <td>Salmonella enterica</td>\n",
       "      <td>Enteritidis</td>\n",
       "      <td>Confirmed</td>\n",
       "      <td>31</td>\n",
       "      <td>6.0</td>\n",
       "      <td>0.0</td>\n",
       "    </tr>\n",
       "    <tr>\n",
       "      <th>...</th>\n",
       "      <td>...</td>\n",
       "      <td>...</td>\n",
       "      <td>...</td>\n",
       "      <td>...</td>\n",
       "      <td>...</td>\n",
       "      <td>...</td>\n",
       "      <td>...</td>\n",
       "      <td>...</td>\n",
       "      <td>...</td>\n",
       "      <td>...</td>\n",
       "      <td>...</td>\n",
       "      <td>...</td>\n",
       "    </tr>\n",
       "    <tr>\n",
       "      <th>415</th>\n",
       "      <td>2015</td>\n",
       "      <td>November</td>\n",
       "      <td>Tennessee</td>\n",
       "      <td>Restaurant</td>\n",
       "      <td>Hamburger</td>\n",
       "      <td>Ground Beef</td>\n",
       "      <td>Escherichia coli, Shiga toxin-producing</td>\n",
       "      <td>O157:H7</td>\n",
       "      <td>Confirmed</td>\n",
       "      <td>13</td>\n",
       "      <td>0.0</td>\n",
       "      <td>0.0</td>\n",
       "    </tr>\n",
       "    <tr>\n",
       "      <th>416</th>\n",
       "      <td>2015</td>\n",
       "      <td>November</td>\n",
       "      <td>Utah</td>\n",
       "      <td>Catering Service</td>\n",
       "      <td>Eggs, Scrambled</td>\n",
       "      <td>Egg</td>\n",
       "      <td>Salmonella enterica</td>\n",
       "      <td>Enteritidis</td>\n",
       "      <td>Confirmed</td>\n",
       "      <td>3</td>\n",
       "      <td>0.0</td>\n",
       "      <td>0.0</td>\n",
       "    </tr>\n",
       "    <tr>\n",
       "      <th>417</th>\n",
       "      <td>2015</td>\n",
       "      <td>December</td>\n",
       "      <td>Connecticut</td>\n",
       "      <td>Restaurant</td>\n",
       "      <td>Cucumbers</td>\n",
       "      <td>Cucumber</td>\n",
       "      <td>Salmonella enterica</td>\n",
       "      <td>Thompson</td>\n",
       "      <td>Confirmed</td>\n",
       "      <td>3</td>\n",
       "      <td>0.0</td>\n",
       "      <td>0.0</td>\n",
       "    </tr>\n",
       "    <tr>\n",
       "      <th>418</th>\n",
       "      <td>2015</td>\n",
       "      <td>December</td>\n",
       "      <td>Michigan</td>\n",
       "      <td>Private Home/Residence</td>\n",
       "      <td>Cake</td>\n",
       "      <td>Frosting/Icing</td>\n",
       "      <td>Norovirus genogroup II</td>\n",
       "      <td>GII_17 Kawasaki (2014)</td>\n",
       "      <td>Confirmed</td>\n",
       "      <td>73</td>\n",
       "      <td>0.0</td>\n",
       "      <td>0.0</td>\n",
       "    </tr>\n",
       "    <tr>\n",
       "      <th>419</th>\n",
       "      <td>2015</td>\n",
       "      <td>December</td>\n",
       "      <td>Multistate</td>\n",
       "      <td>Private Home/Residence</td>\n",
       "      <td>Powder Meal Replacement</td>\n",
       "      <td>Moringa Leaf Powder</td>\n",
       "      <td>Salmonella enterica</td>\n",
       "      <td>Virchow</td>\n",
       "      <td>Confirmed</td>\n",
       "      <td>35</td>\n",
       "      <td>6.0</td>\n",
       "      <td>0.0</td>\n",
       "    </tr>\n",
       "  </tbody>\n",
       "</table>\n",
       "<p>420 rows × 12 columns</p>\n",
       "</div>"
      ],
      "text/plain": [
       "     Year      Month        State                Location  \\\n",
       "0    1998       June     New York  Private Home/Residence   \n",
       "1    1998       July      Arizona              Restaurant   \n",
       "2    1998  September     Maryland              Restaurant   \n",
       "3    1999    January   California              Restaurant   \n",
       "4    1999    January   California              Restaurant   \n",
       "..    ...        ...          ...                     ...   \n",
       "415  2015   November    Tennessee              Restaurant   \n",
       "416  2015   November         Utah        Catering Service   \n",
       "417  2015   December  Connecticut              Restaurant   \n",
       "418  2015   December     Michigan  Private Home/Residence   \n",
       "419  2015   December   Multistate  Private Home/Residence   \n",
       "\n",
       "                                         Food           Ingredient  \\\n",
       "0                        Chicken, Unspecified              Chicken   \n",
       "1                              Chile Rellenos                  Egg   \n",
       "2               Multiple Cheeses, Unspecified               Cheese   \n",
       "3                               Eggs Benedict                  Egg   \n",
       "4    Chile Relleno, Unspecified; Rice, Yellow             Egg; Egg   \n",
       "..                                        ...                  ...   \n",
       "415                                 Hamburger          Ground Beef   \n",
       "416                           Eggs, Scrambled                  Egg   \n",
       "417                                 Cucumbers             Cucumber   \n",
       "418                                      Cake       Frosting/Icing   \n",
       "419                   Powder Meal Replacement  Moringa Leaf Powder   \n",
       "\n",
       "                                     Species       Serotype/Genotype  \\\n",
       "0                        Salmonella enterica             Typhimurium   \n",
       "1                        Salmonella enterica             Enteritidis   \n",
       "2                     Norovirus genogroup II                 Unknown   \n",
       "3                        Salmonella enterica             Enteritidis   \n",
       "4                        Salmonella enterica             Enteritidis   \n",
       "..                                       ...                     ...   \n",
       "415  Escherichia coli, Shiga toxin-producing                 O157:H7   \n",
       "416                      Salmonella enterica             Enteritidis   \n",
       "417                      Salmonella enterica                Thompson   \n",
       "418                   Norovirus genogroup II  GII_17 Kawasaki (2014)   \n",
       "419                      Salmonella enterica                 Virchow   \n",
       "\n",
       "        Status  Illnesses  Hospitalizations  Fatalities  \n",
       "0    Confirmed          4               3.0         0.0  \n",
       "1    Confirmed         58              11.0         0.0  \n",
       "2    Confirmed        258               4.0         0.0  \n",
       "3    Confirmed          3               0.0         0.0  \n",
       "4    Confirmed         31               6.0         0.0  \n",
       "..         ...        ...               ...         ...  \n",
       "415  Confirmed         13               0.0         0.0  \n",
       "416  Confirmed          3               0.0         0.0  \n",
       "417  Confirmed          3               0.0         0.0  \n",
       "418  Confirmed         73               0.0         0.0  \n",
       "419  Confirmed         35               6.0         0.0  \n",
       "\n",
       "[420 rows x 12 columns]"
      ]
     },
     "execution_count": 9,
     "metadata": {},
     "output_type": "execute_result"
    }
   ],
   "source": [
    "# Step 2 : Removing a column Unnamed:0\n",
    "processed_df = df.drop(['Unnamed: 0'],axis=1)\n",
    "\n",
    "processed_df"
   ]
  },
  {
   "cell_type": "code",
   "execution_count": 10,
   "id": "ba0c30f9-6d8a-4e3b-bf0d-7fcffb53dc42",
   "metadata": {},
   "outputs": [
    {
     "name": "stdout",
     "output_type": "stream",
     "text": [
      "Year                 420\n",
      "Month                420\n",
      "State                420\n",
      "Location             420\n",
      "Food                 420\n",
      "Ingredient           420\n",
      "Species              420\n",
      "Serotype/Genotype    420\n",
      "Status               420\n",
      "Illnesses            420\n",
      "Hospitalizations     420\n",
      "Fatalities           420\n",
      "dtype: int64\n"
     ]
    }
   ],
   "source": [
    "# Step 3.1: Retrieving basic information of the data (count)\n",
    "print(processed_df.count())"
   ]
  },
  {
   "cell_type": "code",
   "execution_count": 11,
   "id": "17a9f34b-e056-406c-9806-4e862bed73ee",
   "metadata": {},
   "outputs": [
    {
     "name": "stdout",
     "output_type": "stream",
     "text": [
      "(420, 12)\n"
     ]
    }
   ],
   "source": [
    "# Step 3.2: Retrieving basic information of the data (dimension)\n",
    "print(processed_df.shape)"
   ]
  },
  {
   "cell_type": "code",
   "execution_count": 12,
   "id": "5241f9f2-7a1d-423f-9fd2-df904aa9ed91",
   "metadata": {},
   "outputs": [
    {
     "name": "stdout",
     "output_type": "stream",
     "text": [
      "Index(['Year', 'Month', 'State', 'Location', 'Food', 'Ingredient', 'Species',\n",
      "       'Serotype/Genotype', 'Status', 'Illnesses', 'Hospitalizations',\n",
      "       'Fatalities'],\n",
      "      dtype='object')\n"
     ]
    }
   ],
   "source": [
    "# Step 3.3: Retrieving basic information of the data (name of coulmns)\n",
    "print(processed_df.columns)"
   ]
  },
  {
   "cell_type": "code",
   "execution_count": 13,
   "id": "d956977c-6a29-4232-8986-53c019c1f3cf",
   "metadata": {},
   "outputs": [
    {
     "data": {
      "text/html": [
       "<div>\n",
       "<style scoped>\n",
       "    .dataframe tbody tr th:only-of-type {\n",
       "        vertical-align: middle;\n",
       "    }\n",
       "\n",
       "    .dataframe tbody tr th {\n",
       "        vertical-align: top;\n",
       "    }\n",
       "\n",
       "    .dataframe thead th {\n",
       "        text-align: right;\n",
       "    }\n",
       "</style>\n",
       "<table border=\"1\" class=\"dataframe\">\n",
       "  <thead>\n",
       "    <tr style=\"text-align: right;\">\n",
       "      <th></th>\n",
       "      <th>count</th>\n",
       "      <th>mean</th>\n",
       "      <th>std</th>\n",
       "      <th>min</th>\n",
       "      <th>25%</th>\n",
       "      <th>50%</th>\n",
       "      <th>75%</th>\n",
       "      <th>max</th>\n",
       "    </tr>\n",
       "  </thead>\n",
       "  <tbody>\n",
       "    <tr>\n",
       "      <th>Year</th>\n",
       "      <td>420.0</td>\n",
       "      <td>2008.040476</td>\n",
       "      <td>5.269426</td>\n",
       "      <td>1998.0</td>\n",
       "      <td>2004.0</td>\n",
       "      <td>2008.5</td>\n",
       "      <td>2013.0</td>\n",
       "      <td>2015.0</td>\n",
       "    </tr>\n",
       "    <tr>\n",
       "      <th>Illnesses</th>\n",
       "      <td>420.0</td>\n",
       "      <td>28.488095</td>\n",
       "      <td>47.681695</td>\n",
       "      <td>2.0</td>\n",
       "      <td>6.0</td>\n",
       "      <td>13.0</td>\n",
       "      <td>30.0</td>\n",
       "      <td>429.0</td>\n",
       "    </tr>\n",
       "    <tr>\n",
       "      <th>Hospitalizations</th>\n",
       "      <td>420.0</td>\n",
       "      <td>3.635714</td>\n",
       "      <td>8.179850</td>\n",
       "      <td>0.0</td>\n",
       "      <td>0.0</td>\n",
       "      <td>1.0</td>\n",
       "      <td>4.0</td>\n",
       "      <td>129.0</td>\n",
       "    </tr>\n",
       "    <tr>\n",
       "      <th>Fatalities</th>\n",
       "      <td>420.0</td>\n",
       "      <td>0.026190</td>\n",
       "      <td>0.159892</td>\n",
       "      <td>0.0</td>\n",
       "      <td>0.0</td>\n",
       "      <td>0.0</td>\n",
       "      <td>0.0</td>\n",
       "      <td>1.0</td>\n",
       "    </tr>\n",
       "  </tbody>\n",
       "</table>\n",
       "</div>"
      ],
      "text/plain": [
       "                  count         mean        std     min     25%     50%  \\\n",
       "Year              420.0  2008.040476   5.269426  1998.0  2004.0  2008.5   \n",
       "Illnesses         420.0    28.488095  47.681695     2.0     6.0    13.0   \n",
       "Hospitalizations  420.0     3.635714   8.179850     0.0     0.0     1.0   \n",
       "Fatalities        420.0     0.026190   0.159892     0.0     0.0     0.0   \n",
       "\n",
       "                     75%     max  \n",
       "Year              2013.0  2015.0  \n",
       "Illnesses           30.0   429.0  \n",
       "Hospitalizations     4.0   129.0  \n",
       "Fatalities           0.0     1.0  "
      ]
     },
     "execution_count": 13,
     "metadata": {},
     "output_type": "execute_result"
    }
   ],
   "source": [
    "# Step 4: Generating an overall statistical measure of the dataset.\n",
    "processed_df.describe().T"
   ]
  },
  {
   "cell_type": "code",
   "execution_count": 27,
   "id": "9f82e59a-d154-4d21-9b12-8df2ac3a892d",
   "metadata": {},
   "outputs": [
    {
     "data": {
      "text/plain": [
       "<seaborn.axisgrid.FacetGrid at 0x13d6254f0>"
      ]
     },
     "execution_count": 27,
     "metadata": {},
     "output_type": "execute_result"
    },
    {
     "data": {
      "image/png": "[encoded data removed]",
      "text/plain": [
       "<Figure size 360x360 with 1 Axes>"
      ]
     },
     "metadata": {
      "needs_background": "light"
     },
     "output_type": "display_data"
    }
   ],
   "source": [
    "sns.relplot(data=processed_df, kind=\"line\",x=\"Month\", y=\"Illnesses\")"
   ]
  },
  {
   "cell_type": "code",
   "execution_count": null,
   "id": "bf6db364-f7ef-48ad-8678-0bee47f52956",
   "metadata": {},
   "outputs": [],
   "source": [
    "# Analysis (graph) part 1: \n",
    "\"\"\"\n",
    "In the above graph, Months were plotted on the x axis and the number of illnesses was \n",
    "plotted on the y-axis. This graph was created to plot and visualize the number fo illnesses\n",
    "and their occurences in various months.\n",
    "\"\"\""
   ]
  },
  {
   "cell_type": "code",
   "execution_count": 25,
   "id": "e2b8769b-c180-4a8f-8a31-db03ad75fa09",
   "metadata": {},
   "outputs": [
    {
     "data": {
      "text/plain": [
       "<seaborn.axisgrid.FacetGrid at 0x13d224940>"
      ]
     },
     "execution_count": 25,
     "metadata": {},
     "output_type": "execute_result"
    },
    {
     "data": {
      "image/png": "[encoded data removed]",
      "text/plain": [
       "<Figure size 360x360 with 1 Axes>"
      ]
     },
     "metadata": {
      "needs_background": "light"
     },
     "output_type": "display_data"
    }
   ],
   "source": [
    "sns.relplot(data=processed_df, kind=\"line\",x=\"Month\", y=\"Hospitalizations\")"
   ]
  },
  {
   "cell_type": "code",
   "execution_count": null,
   "id": "c1dc9cb4-0635-41e2-ab95-7bc8ab6341dd",
   "metadata": {},
   "outputs": [],
   "source": [
    "# Analysis (graph) part 2: \n",
    "\"\"\"\n",
    "In the above graph, Months were plotted on the x-axis and the number of hospitalizations occuring was \n",
    "plotted on the y-axis. This graph was created to plot and visualize the number hospitalizations \n",
    "that occured in various months.\n",
    "\"\"\""
   ]
  },
  {
   "cell_type": "code",
   "execution_count": 26,
   "id": "96d3d051-67d8-4de3-ae8a-f09f30482f7f",
   "metadata": {},
   "outputs": [
    {
     "data": {
      "text/plain": [
       "<seaborn.axisgrid.FacetGrid at 0x13d316e80>"
      ]
     },
     "execution_count": 26,
     "metadata": {},
     "output_type": "execute_result"
    },
    {
     "data": {
      "image/png": "[encoded data removed]",
      "text/plain": [
       "<Figure size 360x360 with 1 Axes>"
      ]
     },
     "metadata": {
      "needs_background": "light"
     },
     "output_type": "display_data"
    }
   ],
   "source": [
    "sns.relplot(data=processed_df, kind=\"line\",x=\"Month\", y=\"Fatalities\")"
   ]
  },
  {
   "cell_type": "code",
   "execution_count": null,
   "id": "6a07cd2e-bcf1-4be9-8720-992784e61e94",
   "metadata": {},
   "outputs": [],
   "source": [
    "# Analysis (graph) part 1: \n",
    "\"\"\"\n",
    "In the above graph, Months were plotted on the x axis and the number of fatalities occuring was \n",
    "plotted on the y-axis. This graph was created to plot and visualize the number fo fatalities\n",
    "and their occurences in various months.\n",
    "\"\"\""
   ]
  }
 ],
 "metadata": {
  "kernelspec": {
   "display_name": "Python 3",
   "language": "python",
   "name": "python3"
  },
  "language_info": {
   "codemirror_mode": {
    "name": "ipython",
    "version": 3
   },
   "file_extension": ".py",
   "mimetype": "text/x-python",
   "name": "python",
   "nbconvert_exporter": "python",
   "pygments_lexer": "ipython3",
   "version": "3.8.5"
  }
 },
 "nbformat": 4,
 "nbformat_minor": 5
}
