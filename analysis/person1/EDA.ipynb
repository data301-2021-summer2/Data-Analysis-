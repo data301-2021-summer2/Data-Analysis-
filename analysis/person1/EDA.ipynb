{
 "cells": [
  {
   "cell_type": "code",
   "execution_count": 52,
   "id": "e3457e96-1ddc-4108-b73c-e8866b79c652",
   "metadata": {},
   "outputs": [],
   "source": [
    "import pandas as pd\n",
    "import numpy as nm\n",
    "import seaborn as sns\n",
    "import matplotlib.pylab as plt"
   ]
  },
  {
   "cell_type": "code",
   "execution_count": 53,
   "id": "ab09456c-d60a-4f8f-8de9-8836ee37bc3d",
   "metadata": {},
   "outputs": [
    {
     "name": "stdout",
     "output_type": "stream",
     "text": [
      "   Unnamed: 0  Year  Month       State                Location  \\\n",
      "0         638  1998      6    New York  Private Home/Residence   \n",
      "1         669  1998      7     Arizona              Restaurant   \n",
      "2         955  1998      9    Maryland              Restaurant   \n",
      "3        1319  1999      1  California              Restaurant   \n",
      "4        1321  1999      1  California              Restaurant   \n",
      "\n",
      "                                       Food Ingredient  \\\n",
      "0                      Chicken, Unspecified    Chicken   \n",
      "1                            Chile Rellenos        Egg   \n",
      "2             Multiple Cheeses, Unspecified     Cheese   \n",
      "3                             Eggs Benedict        Egg   \n",
      "4  Chile Relleno, Unspecified; Rice, Yellow   Egg; Egg   \n",
      "\n",
      "                  Species Serotype/Genotype Status  Illnesses  \\\n",
      "0     Salmonella enterica       Typhimurium      1          4   \n",
      "1     Salmonella enterica       Enteritidis      1         58   \n",
      "2  Norovirus genogroup II           Unknown      1        258   \n",
      "3     Salmonella enterica       Enteritidis      1          3   \n",
      "4     Salmonella enterica       Enteritidis      1         31   \n",
      "\n",
      "   Hospitalizations  Fatalities  \n",
      "0               3.0         0.0  \n",
      "1              11.0         0.0  \n",
      "2               4.0         0.0  \n",
      "3               0.0         0.0  \n",
      "4               6.0         0.0  \n"
     ]
    }
   ],
   "source": [
    "# Step 1:  Loading the csv file\n",
    "import pandas as pd\n",
    "df = pd.read_csv('/Users/aashishchilwal/Desktop/group32-project/data/processed/processed_data.csv')\n",
    "\n",
    "# Step 2.1: Retrieving basic information of the data (head)\n",
    "print(df.head())"
   ]
  },
  {
   "cell_type": "code",
   "execution_count": 54,
   "id": "578a6676-fc7c-4d0d-9546-bea6cadb5a78",
   "metadata": {},
   "outputs": [
    {
     "data": {
      "text/html": [
       "<div>\n",
       "<style scoped>\n",
       "    .dataframe tbody tr th:only-of-type {\n",
       "        vertical-align: middle;\n",
       "    }\n",
       "\n",
       "    .dataframe tbody tr th {\n",
       "        vertical-align: top;\n",
       "    }\n",
       "\n",
       "    .dataframe thead th {\n",
       "        text-align: right;\n",
       "    }\n",
       "</style>\n",
       "<table border=\"1\" class=\"dataframe\">\n",
       "  <thead>\n",
       "    <tr style=\"text-align: right;\">\n",
       "      <th></th>\n",
       "      <th>Year</th>\n",
       "      <th>Month</th>\n",
       "      <th>State</th>\n",
       "      <th>Location</th>\n",
       "      <th>Food</th>\n",
       "      <th>Ingredient</th>\n",
       "      <th>Species</th>\n",
       "      <th>Serotype/Genotype</th>\n",
       "      <th>Status</th>\n",
       "      <th>Illnesses</th>\n",
       "      <th>Hospitalizations</th>\n",
       "      <th>Fatalities</th>\n",
       "    </tr>\n",
       "  </thead>\n",
       "  <tbody>\n",
       "    <tr>\n",
       "      <th>0</th>\n",
       "      <td>1998</td>\n",
       "      <td>6</td>\n",
       "      <td>New York</td>\n",
       "      <td>Private Home/Residence</td>\n",
       "      <td>Chicken, Unspecified</td>\n",
       "      <td>Chicken</td>\n",
       "      <td>Salmonella enterica</td>\n",
       "      <td>Typhimurium</td>\n",
       "      <td>1</td>\n",
       "      <td>4</td>\n",
       "      <td>3.0</td>\n",
       "      <td>0.0</td>\n",
       "    </tr>\n",
       "    <tr>\n",
       "      <th>1</th>\n",
       "      <td>1998</td>\n",
       "      <td>7</td>\n",
       "      <td>Arizona</td>\n",
       "      <td>Restaurant</td>\n",
       "      <td>Chile Rellenos</td>\n",
       "      <td>Egg</td>\n",
       "      <td>Salmonella enterica</td>\n",
       "      <td>Enteritidis</td>\n",
       "      <td>1</td>\n",
       "      <td>58</td>\n",
       "      <td>11.0</td>\n",
       "      <td>0.0</td>\n",
       "    </tr>\n",
       "    <tr>\n",
       "      <th>2</th>\n",
       "      <td>1998</td>\n",
       "      <td>9</td>\n",
       "      <td>Maryland</td>\n",
       "      <td>Restaurant</td>\n",
       "      <td>Multiple Cheeses, Unspecified</td>\n",
       "      <td>Cheese</td>\n",
       "      <td>Norovirus genogroup II</td>\n",
       "      <td>Unknown</td>\n",
       "      <td>1</td>\n",
       "      <td>258</td>\n",
       "      <td>4.0</td>\n",
       "      <td>0.0</td>\n",
       "    </tr>\n",
       "    <tr>\n",
       "      <th>3</th>\n",
       "      <td>1999</td>\n",
       "      <td>1</td>\n",
       "      <td>California</td>\n",
       "      <td>Restaurant</td>\n",
       "      <td>Eggs Benedict</td>\n",
       "      <td>Egg</td>\n",
       "      <td>Salmonella enterica</td>\n",
       "      <td>Enteritidis</td>\n",
       "      <td>1</td>\n",
       "      <td>3</td>\n",
       "      <td>0.0</td>\n",
       "      <td>0.0</td>\n",
       "    </tr>\n",
       "    <tr>\n",
       "      <th>4</th>\n",
       "      <td>1999</td>\n",
       "      <td>1</td>\n",
       "      <td>California</td>\n",
       "      <td>Restaurant</td>\n",
       "      <td>Chile Relleno, Unspecified; Rice, Yellow</td>\n",
       "      <td>Egg; Egg</td>\n",
       "      <td>Salmonella enterica</td>\n",
       "      <td>Enteritidis</td>\n",
       "      <td>1</td>\n",
       "      <td>31</td>\n",
       "      <td>6.0</td>\n",
       "      <td>0.0</td>\n",
       "    </tr>\n",
       "    <tr>\n",
       "      <th>...</th>\n",
       "      <td>...</td>\n",
       "      <td>...</td>\n",
       "      <td>...</td>\n",
       "      <td>...</td>\n",
       "      <td>...</td>\n",
       "      <td>...</td>\n",
       "      <td>...</td>\n",
       "      <td>...</td>\n",
       "      <td>...</td>\n",
       "      <td>...</td>\n",
       "      <td>...</td>\n",
       "      <td>...</td>\n",
       "    </tr>\n",
       "    <tr>\n",
       "      <th>415</th>\n",
       "      <td>2015</td>\n",
       "      <td>11</td>\n",
       "      <td>Tennessee</td>\n",
       "      <td>Restaurant</td>\n",
       "      <td>Hamburger</td>\n",
       "      <td>Ground Beef</td>\n",
       "      <td>Escherichia coli, Shiga toxin-producing</td>\n",
       "      <td>O157:H7</td>\n",
       "      <td>1</td>\n",
       "      <td>13</td>\n",
       "      <td>0.0</td>\n",
       "      <td>0.0</td>\n",
       "    </tr>\n",
       "    <tr>\n",
       "      <th>416</th>\n",
       "      <td>2015</td>\n",
       "      <td>11</td>\n",
       "      <td>Utah</td>\n",
       "      <td>Catering Service</td>\n",
       "      <td>Eggs, Scrambled</td>\n",
       "      <td>Egg</td>\n",
       "      <td>Salmonella enterica</td>\n",
       "      <td>Enteritidis</td>\n",
       "      <td>1</td>\n",
       "      <td>3</td>\n",
       "      <td>0.0</td>\n",
       "      <td>0.0</td>\n",
       "    </tr>\n",
       "    <tr>\n",
       "      <th>417</th>\n",
       "      <td>2015</td>\n",
       "      <td>12</td>\n",
       "      <td>Connecticut</td>\n",
       "      <td>Restaurant</td>\n",
       "      <td>Cucumbers</td>\n",
       "      <td>Cucumber</td>\n",
       "      <td>Salmonella enterica</td>\n",
       "      <td>Thompson</td>\n",
       "      <td>1</td>\n",
       "      <td>3</td>\n",
       "      <td>0.0</td>\n",
       "      <td>0.0</td>\n",
       "    </tr>\n",
       "    <tr>\n",
       "      <th>418</th>\n",
       "      <td>2015</td>\n",
       "      <td>12</td>\n",
       "      <td>Michigan</td>\n",
       "      <td>Private Home/Residence</td>\n",
       "      <td>Cake</td>\n",
       "      <td>Frosting/Icing</td>\n",
       "      <td>Norovirus genogroup II</td>\n",
       "      <td>GII_17 Kawasaki (2014)</td>\n",
       "      <td>1</td>\n",
       "      <td>73</td>\n",
       "      <td>0.0</td>\n",
       "      <td>0.0</td>\n",
       "    </tr>\n",
       "    <tr>\n",
       "      <th>419</th>\n",
       "      <td>2015</td>\n",
       "      <td>12</td>\n",
       "      <td>Multistate</td>\n",
       "      <td>Private Home/Residence</td>\n",
       "      <td>Powder Meal Replacement</td>\n",
       "      <td>Moringa Leaf Powder</td>\n",
       "      <td>Salmonella enterica</td>\n",
       "      <td>Virchow</td>\n",
       "      <td>1</td>\n",
       "      <td>35</td>\n",
       "      <td>6.0</td>\n",
       "      <td>0.0</td>\n",
       "    </tr>\n",
       "  </tbody>\n",
       "</table>\n",
       "<p>420 rows × 12 columns</p>\n",
       "</div>"
      ],
      "text/plain": [
       "     Year  Month        State                Location  \\\n",
       "0    1998      6     New York  Private Home/Residence   \n",
       "1    1998      7      Arizona              Restaurant   \n",
       "2    1998      9     Maryland              Restaurant   \n",
       "3    1999      1   California              Restaurant   \n",
       "4    1999      1   California              Restaurant   \n",
       "..    ...    ...          ...                     ...   \n",
       "415  2015     11    Tennessee              Restaurant   \n",
       "416  2015     11         Utah        Catering Service   \n",
       "417  2015     12  Connecticut              Restaurant   \n",
       "418  2015     12     Michigan  Private Home/Residence   \n",
       "419  2015     12   Multistate  Private Home/Residence   \n",
       "\n",
       "                                         Food           Ingredient  \\\n",
       "0                        Chicken, Unspecified              Chicken   \n",
       "1                              Chile Rellenos                  Egg   \n",
       "2               Multiple Cheeses, Unspecified               Cheese   \n",
       "3                               Eggs Benedict                  Egg   \n",
       "4    Chile Relleno, Unspecified; Rice, Yellow             Egg; Egg   \n",
       "..                                        ...                  ...   \n",
       "415                                 Hamburger          Ground Beef   \n",
       "416                           Eggs, Scrambled                  Egg   \n",
       "417                                 Cucumbers             Cucumber   \n",
       "418                                      Cake       Frosting/Icing   \n",
       "419                   Powder Meal Replacement  Moringa Leaf Powder   \n",
       "\n",
       "                                     Species       Serotype/Genotype Status  \\\n",
       "0                        Salmonella enterica             Typhimurium      1   \n",
       "1                        Salmonella enterica             Enteritidis      1   \n",
       "2                     Norovirus genogroup II                 Unknown      1   \n",
       "3                        Salmonella enterica             Enteritidis      1   \n",
       "4                        Salmonella enterica             Enteritidis      1   \n",
       "..                                       ...                     ...    ...   \n",
       "415  Escherichia coli, Shiga toxin-producing                 O157:H7      1   \n",
       "416                      Salmonella enterica             Enteritidis      1   \n",
       "417                      Salmonella enterica                Thompson      1   \n",
       "418                   Norovirus genogroup II  GII_17 Kawasaki (2014)      1   \n",
       "419                      Salmonella enterica                 Virchow      1   \n",
       "\n",
       "     Illnesses  Hospitalizations  Fatalities  \n",
       "0            4               3.0         0.0  \n",
       "1           58              11.0         0.0  \n",
       "2          258               4.0         0.0  \n",
       "3            3               0.0         0.0  \n",
       "4           31               6.0         0.0  \n",
       "..         ...               ...         ...  \n",
       "415         13               0.0         0.0  \n",
       "416          3               0.0         0.0  \n",
       "417          3               0.0         0.0  \n",
       "418         73               0.0         0.0  \n",
       "419         35               6.0         0.0  \n",
       "\n",
       "[420 rows x 12 columns]"
      ]
     },
     "execution_count": 54,
     "metadata": {},
     "output_type": "execute_result"
    }
   ],
   "source": [
    "# Step 2: Removing a column 'Unnamed:0'\n",
    "\n",
    "processed_df = df.drop('Unnamed: 0',axis=1)\n",
    "processed_df"
   ]
  },
  {
   "cell_type": "code",
   "execution_count": 55,
   "id": "ba0c30f9-6d8a-4e3b-bf0d-7fcffb53dc42",
   "metadata": {},
   "outputs": [
    {
     "name": "stdout",
     "output_type": "stream",
     "text": [
      "Year                 420\n",
      "Month                420\n",
      "State                420\n",
      "Location             420\n",
      "Food                 420\n",
      "Ingredient           420\n",
      "Species              420\n",
      "Serotype/Genotype    420\n",
      "Status               420\n",
      "Illnesses            420\n",
      "Hospitalizations     420\n",
      "Fatalities           420\n",
      "dtype: int64\n"
     ]
    }
   ],
   "source": [
    "# Step 3.1: Retrieving basic information of the data (count)\n",
    "print(processed_df.count())"
   ]
  },
  {
   "cell_type": "code",
   "execution_count": 56,
   "id": "17a9f34b-e056-406c-9806-4e862bed73ee",
   "metadata": {},
   "outputs": [
    {
     "name": "stdout",
     "output_type": "stream",
     "text": [
      "(420, 12)\n"
     ]
    }
   ],
   "source": [
    "# Step 3.2: Retrieving basic information of the data (dimension)\n",
    "print(processed_df.shape)"
   ]
  },
  {
   "cell_type": "code",
   "execution_count": 57,
   "id": "5241f9f2-7a1d-423f-9fd2-df904aa9ed91",
   "metadata": {},
   "outputs": [
    {
     "name": "stdout",
     "output_type": "stream",
     "text": [
      "Index(['Year', 'Month', 'State', 'Location', 'Food', 'Ingredient', 'Species',\n",
      "       'Serotype/Genotype', 'Status', 'Illnesses', 'Hospitalizations',\n",
      "       'Fatalities'],\n",
      "      dtype='object')\n"
     ]
    }
   ],
   "source": [
    "# Step 3.3: Retrieving basic information of the data (name of coulmns)\n",
    "print(processed_df.columns)"
   ]
  },
  {
   "cell_type": "code",
   "execution_count": 58,
   "id": "d956977c-6a29-4232-8986-53c019c1f3cf",
   "metadata": {},
   "outputs": [
    {
     "data": {
      "text/html": [
       "<div>\n",
       "<style scoped>\n",
       "    .dataframe tbody tr th:only-of-type {\n",
       "        vertical-align: middle;\n",
       "    }\n",
       "\n",
       "    .dataframe tbody tr th {\n",
       "        vertical-align: top;\n",
       "    }\n",
       "\n",
       "    .dataframe thead th {\n",
       "        text-align: right;\n",
       "    }\n",
       "</style>\n",
       "<table border=\"1\" class=\"dataframe\">\n",
       "  <thead>\n",
       "    <tr style=\"text-align: right;\">\n",
       "      <th></th>\n",
       "      <th>count</th>\n",
       "      <th>mean</th>\n",
       "      <th>std</th>\n",
       "      <th>min</th>\n",
       "      <th>25%</th>\n",
       "      <th>50%</th>\n",
       "      <th>75%</th>\n",
       "      <th>max</th>\n",
       "    </tr>\n",
       "  </thead>\n",
       "  <tbody>\n",
       "    <tr>\n",
       "      <th>Year</th>\n",
       "      <td>420.0</td>\n",
       "      <td>2008.040476</td>\n",
       "      <td>5.269426</td>\n",
       "      <td>1998.0</td>\n",
       "      <td>2004.0</td>\n",
       "      <td>2008.5</td>\n",
       "      <td>2013.0</td>\n",
       "      <td>2015.0</td>\n",
       "    </tr>\n",
       "    <tr>\n",
       "      <th>Month</th>\n",
       "      <td>420.0</td>\n",
       "      <td>6.697619</td>\n",
       "      <td>3.096151</td>\n",
       "      <td>1.0</td>\n",
       "      <td>4.0</td>\n",
       "      <td>7.0</td>\n",
       "      <td>9.0</td>\n",
       "      <td>12.0</td>\n",
       "    </tr>\n",
       "    <tr>\n",
       "      <th>Illnesses</th>\n",
       "      <td>420.0</td>\n",
       "      <td>28.488095</td>\n",
       "      <td>47.681695</td>\n",
       "      <td>2.0</td>\n",
       "      <td>6.0</td>\n",
       "      <td>13.0</td>\n",
       "      <td>30.0</td>\n",
       "      <td>429.0</td>\n",
       "    </tr>\n",
       "    <tr>\n",
       "      <th>Hospitalizations</th>\n",
       "      <td>420.0</td>\n",
       "      <td>3.635714</td>\n",
       "      <td>8.179850</td>\n",
       "      <td>0.0</td>\n",
       "      <td>0.0</td>\n",
       "      <td>1.0</td>\n",
       "      <td>4.0</td>\n",
       "      <td>129.0</td>\n",
       "    </tr>\n",
       "    <tr>\n",
       "      <th>Fatalities</th>\n",
       "      <td>420.0</td>\n",
       "      <td>0.026190</td>\n",
       "      <td>0.159892</td>\n",
       "      <td>0.0</td>\n",
       "      <td>0.0</td>\n",
       "      <td>0.0</td>\n",
       "      <td>0.0</td>\n",
       "      <td>1.0</td>\n",
       "    </tr>\n",
       "  </tbody>\n",
       "</table>\n",
       "</div>"
      ],
      "text/plain": [
       "                  count         mean        std     min     25%     50%  \\\n",
       "Year              420.0  2008.040476   5.269426  1998.0  2004.0  2008.5   \n",
       "Month             420.0     6.697619   3.096151     1.0     4.0     7.0   \n",
       "Illnesses         420.0    28.488095  47.681695     2.0     6.0    13.0   \n",
       "Hospitalizations  420.0     3.635714   8.179850     0.0     0.0     1.0   \n",
       "Fatalities        420.0     0.026190   0.159892     0.0     0.0     0.0   \n",
       "\n",
       "                     75%     max  \n",
       "Year              2013.0  2015.0  \n",
       "Month                9.0    12.0  \n",
       "Illnesses           30.0   429.0  \n",
       "Hospitalizations     4.0   129.0  \n",
       "Fatalities           0.0     1.0  "
      ]
     },
     "execution_count": 58,
     "metadata": {},
     "output_type": "execute_result"
    }
   ],
   "source": [
    "# Step 4: Generating an overall statistical measure of the dataset.\n",
    "processed_df.describe().T"
   ]
  },
  {
   "cell_type": "code",
   "execution_count": 59,
   "id": "9f82e59a-d154-4d21-9b12-8df2ac3a892d",
   "metadata": {},
   "outputs": [
    {
     "data": {
      "text/plain": [
       "<seaborn.axisgrid.FacetGrid at 0x1466d1850>"
      ]
     },
     "execution_count": 59,
     "metadata": {},
     "output_type": "execute_result"
    },
    {
     "data": {
      "image/png": "[encoded data removed]",
      "text/plain": [
       "<Figure size 360x360 with 1 Axes>"
      ]
     },
     "metadata": {
      "needs_background": "light"
     },
     "output_type": "display_data"
    }
   ],
   "source": [
    "sns.relplot(data=processed_df, kind=\"line\",x=\"Month\", y=\"Illnesses\")"
   ]
  },
  {
   "cell_type": "code",
   "execution_count": 60,
   "id": "bf6db364-f7ef-48ad-8678-0bee47f52956",
   "metadata": {},
   "outputs": [
    {
     "data": {
      "text/plain": [
       "'\\nIn the above graph, Months were plotted on the x axis and the number of illnesses was \\nplotted on the y-axis. This graph was created to plot and visualize the number fo illnesses\\nand their occurences in various months.\\n'"
      ]
     },
     "execution_count": 60,
     "metadata": {},
     "output_type": "execute_result"
    }
   ],
   "source": [
    "# Analysis (graph) part 1: \n",
    "\"\"\"\n",
    "In the above graph, Months were plotted on the x axis and the number of illnesses was \n",
    "plotted on the y-axis. This graph was created to plot and visualize the number fo illnesses\n",
    "and their occurences in various months.\n",
    "\"\"\""
   ]
  },
  {
   "cell_type": "code",
   "execution_count": 61,
   "id": "e2b8769b-c180-4a8f-8a31-db03ad75fa09",
   "metadata": {},
   "outputs": [
    {
     "data": {
      "text/plain": [
       "<seaborn.axisgrid.FacetGrid at 0x14663edc0>"
      ]
     },
     "execution_count": 61,
     "metadata": {},
     "output_type": "execute_result"
    },
    {
     "data": {
      "image/png": "[encoded data removed]",
      "text/plain": [
       "<Figure size 360x360 with 1 Axes>"
      ]
     },
     "metadata": {
      "needs_background": "light"
     },
     "output_type": "display_data"
    }
   ],
   "source": [
    "sns.relplot(data=processed_df, kind=\"line\",x=\"Month\", y=\"Hospitalizations\")"
   ]
  },
  {
   "cell_type": "code",
   "execution_count": 62,
   "id": "c1dc9cb4-0635-41e2-ab95-7bc8ab6341dd",
   "metadata": {},
   "outputs": [
    {
     "data": {
      "text/plain": [
       "'\\nIn the above graph, Months were plotted on the x-axis and the number of hospitalizations occuring was \\nplotted on the y-axis. This graph was created to plot and visualize the number hospitalizations \\nthat occured in various months.\\n'"
      ]
     },
     "execution_count": 62,
     "metadata": {},
     "output_type": "execute_result"
    }
   ],
   "source": [
    "# Analysis (graph) part 2: \n",
    "\"\"\"\n",
    "In the above graph, Months were plotted on the x-axis and the number of hospitalizations occuring was \n",
    "plotted on the y-axis. This graph was created to plot and visualize the number hospitalizations \n",
    "that occured in various months.\n",
    "\"\"\""
   ]
  },
  {
   "cell_type": "code",
   "execution_count": 63,
   "id": "96d3d051-67d8-4de3-ae8a-f09f30482f7f",
   "metadata": {},
   "outputs": [
    {
     "data": {
      "text/plain": [
       "<seaborn.axisgrid.FacetGrid at 0x13c003340>"
      ]
     },
     "execution_count": 63,
     "metadata": {},
     "output_type": "execute_result"
    },
    {
     "data": {
      "image/png": "[encoded data removed]",
      "text/plain": [
       "<Figure size 360x360 with 1 Axes>"
      ]
     },
     "metadata": {
      "needs_background": "light"
     },
     "output_type": "display_data"
    }
   ],
   "source": [
    "sns.relplot(data=processed_df, kind=\"line\",x=\"Month\", y=\"Fatalities\")"
   ]
  },
  {
   "cell_type": "code",
   "execution_count": 64,
   "id": "6a07cd2e-bcf1-4be9-8720-992784e61e94",
   "metadata": {},
   "outputs": [
    {
     "data": {
      "text/plain": [
       "'\\nIn the above graph, Months were plotted on the x axis and the number of fatalities occuring was \\nplotted on the y-axis. This graph was created to plot and visualize the number fo fatalities\\nand their occurences in various months.\\n'"
      ]
     },
     "execution_count": 64,
     "metadata": {},
     "output_type": "execute_result"
    }
   ],
   "source": [
    "# Analysis (graph) part 1: \n",
    "\"\"\"\n",
    "In the above graph, Months were plotted on the x axis and the number of fatalities occuring was \n",
    "plotted on the y-axis. This graph was created to plot and visualize the number fo fatalities\n",
    "and their occurences in various months.\n",
    "\"\"\""
   ]
  },
  {
   "cell_type": "code",
   "execution_count": 86,
   "id": "eeab0d59-e27d-471d-8ae0-c0d317f615f9",
   "metadata": {},
   "outputs": [],
   "source": [
    "# Analysis calculation part 1: Calculating confirmed number of cases happening in each months\n",
    "processed_DF = processed_df[processed_df.Status != 0]"
   ]
  },
  {
   "cell_type": "code",
   "execution_count": 87,
   "id": "44d12dff-d2eb-43b4-9bc9-71ab7c792998",
   "metadata": {},
   "outputs": [
    {
     "data": {
      "text/plain": [
       "Year                 23\n",
       "Month                23\n",
       "State                23\n",
       "Location             23\n",
       "Food                 23\n",
       "Ingredient           23\n",
       "Species              23\n",
       "Serotype/Genotype    23\n",
       "Status               23\n",
       "Illnesses            23\n",
       "Hospitalizations     23\n",
       "Fatalities           23\n",
       "dtype: int64"
      ]
     },
     "execution_count": 87,
     "metadata": {},
     "output_type": "execute_result"
    }
   ],
   "source": [
    "pdf1 = processed_DF.loc[(df['Month'] == 1) & (df['Status'] >= '1')]\n",
    "pdf1.count()"
   ]
  },
  {
   "cell_type": "code",
   "execution_count": 75,
   "id": "649ddbc4-98f4-4742-931c-d529a7f6808d",
   "metadata": {},
   "outputs": [
    {
     "data": {
      "text/plain": [
       "Year                 21\n",
       "Month                21\n",
       "State                21\n",
       "Location             21\n",
       "Food                 21\n",
       "Ingredient           21\n",
       "Species              21\n",
       "Serotype/Genotype    21\n",
       "Status               21\n",
       "Illnesses            21\n",
       "Hospitalizations     21\n",
       "Fatalities           21\n",
       "dtype: int64"
      ]
     },
     "execution_count": 75,
     "metadata": {},
     "output_type": "execute_result"
    }
   ],
   "source": [
    "pdf2 = processed_DF.loc[(df['Month'] == 2) & (df['Status'] >= '1')]\n",
    "pdf2.count()"
   ]
  },
  {
   "cell_type": "code",
   "execution_count": 88,
   "id": "60e4d89e-89d5-40ee-8544-9a22e78facfb",
   "metadata": {},
   "outputs": [
    {
     "data": {
      "text/plain": [
       "Year                 28\n",
       "Month                28\n",
       "State                28\n",
       "Location             28\n",
       "Food                 28\n",
       "Ingredient           28\n",
       "Species              28\n",
       "Serotype/Genotype    28\n",
       "Status               28\n",
       "Illnesses            28\n",
       "Hospitalizations     28\n",
       "Fatalities           28\n",
       "dtype: int64"
      ]
     },
     "execution_count": 88,
     "metadata": {},
     "output_type": "execute_result"
    }
   ],
   "source": [
    "pdf3 = processed_DF.loc[(df['Month'] == 3) & (df['Status'] >= '1')]\n",
    "pdf3.count()"
   ]
  },
  {
   "cell_type": "code",
   "execution_count": 76,
   "id": "df4d43f0-c6d1-4c0b-b905-989263204443",
   "metadata": {},
   "outputs": [
    {
     "data": {
      "text/plain": [
       "Year                 32\n",
       "Month                32\n",
       "State                32\n",
       "Location             32\n",
       "Food                 32\n",
       "Ingredient           32\n",
       "Species              32\n",
       "Serotype/Genotype    32\n",
       "Status               32\n",
       "Illnesses            32\n",
       "Hospitalizations     32\n",
       "Fatalities           32\n",
       "dtype: int64"
      ]
     },
     "execution_count": 76,
     "metadata": {},
     "output_type": "execute_result"
    }
   ],
   "source": [
    "pdf4 = processed_DF.loc[(df['Month'] == 4) & (df['Status'] >= '1')]\n",
    "pdf4.count()"
   ]
  },
  {
   "cell_type": "code",
   "execution_count": 77,
   "id": "e63cf1ee-afc1-4e30-a099-593e941754e6",
   "metadata": {},
   "outputs": [
    {
     "data": {
      "text/plain": [
       "Year                 36\n",
       "Month                36\n",
       "State                36\n",
       "Location             36\n",
       "Food                 36\n",
       "Ingredient           36\n",
       "Species              36\n",
       "Serotype/Genotype    36\n",
       "Status               36\n",
       "Illnesses            36\n",
       "Hospitalizations     36\n",
       "Fatalities           36\n",
       "dtype: int64"
      ]
     },
     "execution_count": 77,
     "metadata": {},
     "output_type": "execute_result"
    }
   ],
   "source": [
    "pdf5 = processed_DF.loc[(df['Month'] == 5) & (df['Status'] >= '1')]\n",
    "pdf5.count()"
   ]
  },
  {
   "cell_type": "code",
   "execution_count": 78,
   "id": "9acf7bec-c3f3-404d-9182-d9a5c601b59b",
   "metadata": {},
   "outputs": [
    {
     "data": {
      "text/plain": [
       "Year                 39\n",
       "Month                39\n",
       "State                39\n",
       "Location             39\n",
       "Food                 39\n",
       "Ingredient           39\n",
       "Species              39\n",
       "Serotype/Genotype    39\n",
       "Status               39\n",
       "Illnesses            39\n",
       "Hospitalizations     39\n",
       "Fatalities           39\n",
       "dtype: int64"
      ]
     },
     "execution_count": 78,
     "metadata": {},
     "output_type": "execute_result"
    }
   ],
   "source": [
    "pdf6 = processed_DF.loc[(df['Month'] == 6) & (df['Status'] >= '1')]\n",
    "pdf6.count()"
   ]
  },
  {
   "cell_type": "code",
   "execution_count": 79,
   "id": "5a969689-589e-4920-9dad-5233d5fe43bf",
   "metadata": {},
   "outputs": [
    {
     "data": {
      "text/plain": [
       "Year                 59\n",
       "Month                59\n",
       "State                59\n",
       "Location             59\n",
       "Food                 59\n",
       "Ingredient           59\n",
       "Species              59\n",
       "Serotype/Genotype    59\n",
       "Status               59\n",
       "Illnesses            59\n",
       "Hospitalizations     59\n",
       "Fatalities           59\n",
       "dtype: int64"
      ]
     },
     "execution_count": 79,
     "metadata": {},
     "output_type": "execute_result"
    }
   ],
   "source": [
    "pdf7 = processed_DF.loc[(df['Month'] == 7) & (df['Status'] >= '1')]\n",
    "pdf7.count()"
   ]
  },
  {
   "cell_type": "code",
   "execution_count": 80,
   "id": "aff350e8-d136-4043-86c8-b2575c5b2a66",
   "metadata": {},
   "outputs": [
    {
     "data": {
      "text/plain": [
       "Year                 41\n",
       "Month                41\n",
       "State                41\n",
       "Location             41\n",
       "Food                 41\n",
       "Ingredient           41\n",
       "Species              41\n",
       "Serotype/Genotype    41\n",
       "Status               41\n",
       "Illnesses            41\n",
       "Hospitalizations     41\n",
       "Fatalities           41\n",
       "dtype: int64"
      ]
     },
     "execution_count": 80,
     "metadata": {},
     "output_type": "execute_result"
    }
   ],
   "source": [
    "pdf8 = processed_DF.loc[(df['Month'] == 8) & (df['Status'] >= '1')]\n",
    "pdf8.count()"
   ]
  },
  {
   "cell_type": "code",
   "execution_count": 81,
   "id": "c8f6f25f-8f49-40f2-b674-6ccf64e65c6f",
   "metadata": {},
   "outputs": [
    {
     "data": {
      "text/plain": [
       "Year                 33\n",
       "Month                33\n",
       "State                33\n",
       "Location             33\n",
       "Food                 33\n",
       "Ingredient           33\n",
       "Species              33\n",
       "Serotype/Genotype    33\n",
       "Status               33\n",
       "Illnesses            33\n",
       "Hospitalizations     33\n",
       "Fatalities           33\n",
       "dtype: int64"
      ]
     },
     "execution_count": 81,
     "metadata": {},
     "output_type": "execute_result"
    }
   ],
   "source": [
    "pdf9 = processed_DF.loc[(df['Month'] == 9) & (df['Status'] >= '1')]\n",
    "pdf9.count()"
   ]
  },
  {
   "cell_type": "code",
   "execution_count": 82,
   "id": "392c47cb-f2cb-418c-a978-284475d357f9",
   "metadata": {},
   "outputs": [
    {
     "data": {
      "text/plain": [
       "Year                 27\n",
       "Month                27\n",
       "State                27\n",
       "Location             27\n",
       "Food                 27\n",
       "Ingredient           27\n",
       "Species              27\n",
       "Serotype/Genotype    27\n",
       "Status               27\n",
       "Illnesses            27\n",
       "Hospitalizations     27\n",
       "Fatalities           27\n",
       "dtype: int64"
      ]
     },
     "execution_count": 82,
     "metadata": {},
     "output_type": "execute_result"
    }
   ],
   "source": [
    "pdf10 = processed_DF.loc[(df['Month'] == 10) & (df['Status'] >= '1')]\n",
    "pdf10.count()"
   ]
  },
  {
   "cell_type": "code",
   "execution_count": 84,
   "id": "bd058f9c-bddb-44ae-9fda-59e6931a382d",
   "metadata": {},
   "outputs": [
    {
     "data": {
      "text/plain": [
       "Year                 36\n",
       "Month                36\n",
       "State                36\n",
       "Location             36\n",
       "Food                 36\n",
       "Ingredient           36\n",
       "Species              36\n",
       "Serotype/Genotype    36\n",
       "Status               36\n",
       "Illnesses            36\n",
       "Hospitalizations     36\n",
       "Fatalities           36\n",
       "dtype: int64"
      ]
     },
     "execution_count": 84,
     "metadata": {},
     "output_type": "execute_result"
    }
   ],
   "source": [
    "pdf11 = processed_DF.loc[(df['Month'] == 11) & (df['Status'] >= '1')]\n",
    "pdf11.count()"
   ]
  },
  {
   "cell_type": "code",
   "execution_count": 85,
   "id": "4dc7a9b4-b6c5-4cc5-8c6d-174273d988b6",
   "metadata": {},
   "outputs": [
    {
     "data": {
      "text/plain": [
       "Year                 24\n",
       "Month                24\n",
       "State                24\n",
       "Location             24\n",
       "Food                 24\n",
       "Ingredient           24\n",
       "Species              24\n",
       "Serotype/Genotype    24\n",
       "Status               24\n",
       "Illnesses            24\n",
       "Hospitalizations     24\n",
       "Fatalities           24\n",
       "dtype: int64"
      ]
     },
     "execution_count": 85,
     "metadata": {},
     "output_type": "execute_result"
    }
   ],
   "source": [
    "pdf12 = processed_DF.loc[(df['Month'] == 12) & (df['Status'] >= '1')]\n",
    "pdf12.count()"
   ]
  },
  {
   "cell_type": "code",
   "execution_count": null,
   "id": "77d80065-5107-469d-9c9d-cc06109763d7",
   "metadata": {},
   "outputs": [],
   "source": []
  },
  {
   "cell_type": "code",
   "execution_count": null,
   "id": "60462bc5-633d-4911-af3a-c1f8eb9b405a",
   "metadata": {},
   "outputs": [],
   "source": []
  }
 ],
 "metadata": {
  "kernelspec": {
   "display_name": "Python 3",
   "language": "python",
   "name": "python3"
  },
  "language_info": {
   "codemirror_mode": {
    "name": "ipython",
    "version": 3
   },
   "file_extension": ".py",
   "mimetype": "text/x-python",
   "name": "python",
   "nbconvert_exporter": "python",
   "pygments_lexer": "ipython3",
   "version": "3.8.5"
  }
 },
 "nbformat": 4,
 "nbformat_minor": 5
}
