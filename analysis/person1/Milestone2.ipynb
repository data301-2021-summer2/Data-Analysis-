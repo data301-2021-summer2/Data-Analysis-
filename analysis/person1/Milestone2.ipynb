{
 "cells": [
  {
   "cell_type": "code",
   "execution_count": 248,
   "id": "e3457e96-1ddc-4108-b73c-e8866b79c652",
   "metadata": {},
   "outputs": [],
   "source": [
    "import pandas as pd\n",
    "import numpy as nm\n",
    "import seaborn as sns\n",
    "import matplotlib.pylab as plt"
   ]
  },
  {
   "cell_type": "code",
   "execution_count": 249,
   "id": "ab09456c-d60a-4f8f-8de9-8836ee37bc3d",
   "metadata": {},
   "outputs": [
    {
     "name": "stdout",
     "output_type": "stream",
     "text": [
      "   Unnamed: 0  Year  Month       State Location  \\\n",
      "0         638  1998      6    New York        1   \n",
      "1         669  1998      7     Arizona        0   \n",
      "2         955  1998      9    Maryland        0   \n",
      "3        1319  1999      1  California        0   \n",
      "4        1321  1999      1  California        0   \n",
      "\n",
      "                                       Food Ingredient Species  \\\n",
      "0                      Chicken, Unspecified    Chicken       0   \n",
      "1                            Chile Rellenos        Egg       0   \n",
      "2             Multiple Cheeses, Unspecified     Cheese       2   \n",
      "3                             Eggs Benedict        Egg       0   \n",
      "4  Chile Relleno, Unspecified; Rice, Yellow   Egg; Egg       0   \n",
      "\n",
      "  Serotype/Genotype Status  Illnesses  Hospitalizations  Fatalities  \n",
      "0       Typhimurium      1          4               3.0         0.0  \n",
      "1       Enteritidis      1         58              11.0         0.0  \n",
      "2                 1      1        258               4.0         0.0  \n",
      "3       Enteritidis      1          3               0.0         0.0  \n",
      "4       Enteritidis      1         31               6.0         0.0  \n"
     ]
    }
   ],
   "source": [
    "# Step 1:  Loading the csv file\n",
    "import pandas as pd\n",
    "df = pd.read_csv('/Users/aashishchilwal/Desktop/group32-project/data/processed/processed_data.csv')\n",
    "\n",
    "# Step 2.1: Retrieving basic information of the data (head)\n",
    "print(df.head())"
   ]
  },
  {
   "cell_type": "code",
   "execution_count": 250,
   "id": "578a6676-fc7c-4d0d-9546-bea6cadb5a78",
   "metadata": {},
   "outputs": [
    {
     "data": {
      "text/html": [
       "<div>\n",
       "<style scoped>\n",
       "    .dataframe tbody tr th:only-of-type {\n",
       "        vertical-align: middle;\n",
       "    }\n",
       "\n",
       "    .dataframe tbody tr th {\n",
       "        vertical-align: top;\n",
       "    }\n",
       "\n",
       "    .dataframe thead th {\n",
       "        text-align: right;\n",
       "    }\n",
       "</style>\n",
       "<table border=\"1\" class=\"dataframe\">\n",
       "  <thead>\n",
       "    <tr style=\"text-align: right;\">\n",
       "      <th></th>\n",
       "      <th>Year</th>\n",
       "      <th>Month</th>\n",
       "      <th>State</th>\n",
       "      <th>Location</th>\n",
       "      <th>Food</th>\n",
       "      <th>Ingredient</th>\n",
       "      <th>Species</th>\n",
       "      <th>Serotype/Genotype</th>\n",
       "      <th>Status</th>\n",
       "      <th>Illnesses</th>\n",
       "      <th>Hospitalizations</th>\n",
       "      <th>Fatalities</th>\n",
       "    </tr>\n",
       "  </thead>\n",
       "  <tbody>\n",
       "    <tr>\n",
       "      <th>0</th>\n",
       "      <td>1998</td>\n",
       "      <td>6</td>\n",
       "      <td>New York</td>\n",
       "      <td>1</td>\n",
       "      <td>Chicken, Unspecified</td>\n",
       "      <td>Chicken</td>\n",
       "      <td>0</td>\n",
       "      <td>Typhimurium</td>\n",
       "      <td>1</td>\n",
       "      <td>4</td>\n",
       "      <td>3.0</td>\n",
       "      <td>0.0</td>\n",
       "    </tr>\n",
       "    <tr>\n",
       "      <th>1</th>\n",
       "      <td>1998</td>\n",
       "      <td>7</td>\n",
       "      <td>Arizona</td>\n",
       "      <td>0</td>\n",
       "      <td>Chile Rellenos</td>\n",
       "      <td>Egg</td>\n",
       "      <td>0</td>\n",
       "      <td>Enteritidis</td>\n",
       "      <td>1</td>\n",
       "      <td>58</td>\n",
       "      <td>11.0</td>\n",
       "      <td>0.0</td>\n",
       "    </tr>\n",
       "    <tr>\n",
       "      <th>2</th>\n",
       "      <td>1998</td>\n",
       "      <td>9</td>\n",
       "      <td>Maryland</td>\n",
       "      <td>0</td>\n",
       "      <td>Multiple Cheeses, Unspecified</td>\n",
       "      <td>Cheese</td>\n",
       "      <td>2</td>\n",
       "      <td>1</td>\n",
       "      <td>1</td>\n",
       "      <td>258</td>\n",
       "      <td>4.0</td>\n",
       "      <td>0.0</td>\n",
       "    </tr>\n",
       "    <tr>\n",
       "      <th>3</th>\n",
       "      <td>1999</td>\n",
       "      <td>1</td>\n",
       "      <td>California</td>\n",
       "      <td>0</td>\n",
       "      <td>Eggs Benedict</td>\n",
       "      <td>Egg</td>\n",
       "      <td>0</td>\n",
       "      <td>Enteritidis</td>\n",
       "      <td>1</td>\n",
       "      <td>3</td>\n",
       "      <td>0.0</td>\n",
       "      <td>0.0</td>\n",
       "    </tr>\n",
       "    <tr>\n",
       "      <th>4</th>\n",
       "      <td>1999</td>\n",
       "      <td>1</td>\n",
       "      <td>California</td>\n",
       "      <td>0</td>\n",
       "      <td>Chile Relleno, Unspecified; Rice, Yellow</td>\n",
       "      <td>Egg; Egg</td>\n",
       "      <td>0</td>\n",
       "      <td>Enteritidis</td>\n",
       "      <td>1</td>\n",
       "      <td>31</td>\n",
       "      <td>6.0</td>\n",
       "      <td>0.0</td>\n",
       "    </tr>\n",
       "    <tr>\n",
       "      <th>...</th>\n",
       "      <td>...</td>\n",
       "      <td>...</td>\n",
       "      <td>...</td>\n",
       "      <td>...</td>\n",
       "      <td>...</td>\n",
       "      <td>...</td>\n",
       "      <td>...</td>\n",
       "      <td>...</td>\n",
       "      <td>...</td>\n",
       "      <td>...</td>\n",
       "      <td>...</td>\n",
       "      <td>...</td>\n",
       "    </tr>\n",
       "    <tr>\n",
       "      <th>415</th>\n",
       "      <td>2015</td>\n",
       "      <td>11</td>\n",
       "      <td>Tennessee</td>\n",
       "      <td>0</td>\n",
       "      <td>Hamburger</td>\n",
       "      <td>Ground Beef</td>\n",
       "      <td>1</td>\n",
       "      <td>O157:H7</td>\n",
       "      <td>1</td>\n",
       "      <td>13</td>\n",
       "      <td>0.0</td>\n",
       "      <td>0.0</td>\n",
       "    </tr>\n",
       "    <tr>\n",
       "      <th>416</th>\n",
       "      <td>2015</td>\n",
       "      <td>11</td>\n",
       "      <td>Utah</td>\n",
       "      <td>0</td>\n",
       "      <td>Eggs, Scrambled</td>\n",
       "      <td>Egg</td>\n",
       "      <td>0</td>\n",
       "      <td>Enteritidis</td>\n",
       "      <td>1</td>\n",
       "      <td>3</td>\n",
       "      <td>0.0</td>\n",
       "      <td>0.0</td>\n",
       "    </tr>\n",
       "    <tr>\n",
       "      <th>417</th>\n",
       "      <td>2015</td>\n",
       "      <td>12</td>\n",
       "      <td>Connecticut</td>\n",
       "      <td>0</td>\n",
       "      <td>Cucumbers</td>\n",
       "      <td>Cucumber</td>\n",
       "      <td>0</td>\n",
       "      <td>Thompson</td>\n",
       "      <td>1</td>\n",
       "      <td>3</td>\n",
       "      <td>0.0</td>\n",
       "      <td>0.0</td>\n",
       "    </tr>\n",
       "    <tr>\n",
       "      <th>418</th>\n",
       "      <td>2015</td>\n",
       "      <td>12</td>\n",
       "      <td>Michigan</td>\n",
       "      <td>1</td>\n",
       "      <td>Cake</td>\n",
       "      <td>Frosting/Icing</td>\n",
       "      <td>2</td>\n",
       "      <td>GII_17 Kawasaki (2014)</td>\n",
       "      <td>1</td>\n",
       "      <td>73</td>\n",
       "      <td>0.0</td>\n",
       "      <td>0.0</td>\n",
       "    </tr>\n",
       "    <tr>\n",
       "      <th>419</th>\n",
       "      <td>2015</td>\n",
       "      <td>12</td>\n",
       "      <td>Multistate</td>\n",
       "      <td>1</td>\n",
       "      <td>Powder Meal Replacement</td>\n",
       "      <td>Moringa Leaf Powder</td>\n",
       "      <td>0</td>\n",
       "      <td>Virchow</td>\n",
       "      <td>1</td>\n",
       "      <td>35</td>\n",
       "      <td>6.0</td>\n",
       "      <td>0.0</td>\n",
       "    </tr>\n",
       "  </tbody>\n",
       "</table>\n",
       "<p>420 rows × 12 columns</p>\n",
       "</div>"
      ],
      "text/plain": [
       "     Year  Month        State Location  \\\n",
       "0    1998      6     New York        1   \n",
       "1    1998      7      Arizona        0   \n",
       "2    1998      9     Maryland        0   \n",
       "3    1999      1   California        0   \n",
       "4    1999      1   California        0   \n",
       "..    ...    ...          ...      ...   \n",
       "415  2015     11    Tennessee        0   \n",
       "416  2015     11         Utah        0   \n",
       "417  2015     12  Connecticut        0   \n",
       "418  2015     12     Michigan        1   \n",
       "419  2015     12   Multistate        1   \n",
       "\n",
       "                                         Food           Ingredient Species  \\\n",
       "0                        Chicken, Unspecified              Chicken       0   \n",
       "1                              Chile Rellenos                  Egg       0   \n",
       "2               Multiple Cheeses, Unspecified               Cheese       2   \n",
       "3                               Eggs Benedict                  Egg       0   \n",
       "4    Chile Relleno, Unspecified; Rice, Yellow             Egg; Egg       0   \n",
       "..                                        ...                  ...     ...   \n",
       "415                                 Hamburger          Ground Beef       1   \n",
       "416                           Eggs, Scrambled                  Egg       0   \n",
       "417                                 Cucumbers             Cucumber       0   \n",
       "418                                      Cake       Frosting/Icing       2   \n",
       "419                   Powder Meal Replacement  Moringa Leaf Powder       0   \n",
       "\n",
       "          Serotype/Genotype Status  Illnesses  Hospitalizations  Fatalities  \n",
       "0               Typhimurium      1          4               3.0         0.0  \n",
       "1               Enteritidis      1         58              11.0         0.0  \n",
       "2                         1      1        258               4.0         0.0  \n",
       "3               Enteritidis      1          3               0.0         0.0  \n",
       "4               Enteritidis      1         31               6.0         0.0  \n",
       "..                      ...    ...        ...               ...         ...  \n",
       "415                 O157:H7      1         13               0.0         0.0  \n",
       "416             Enteritidis      1          3               0.0         0.0  \n",
       "417                Thompson      1          3               0.0         0.0  \n",
       "418  GII_17 Kawasaki (2014)      1         73               0.0         0.0  \n",
       "419                 Virchow      1         35               6.0         0.0  \n",
       "\n",
       "[420 rows x 12 columns]"
      ]
     },
     "execution_count": 250,
     "metadata": {},
     "output_type": "execute_result"
    }
   ],
   "source": [
    "# Step 2: Removing a column 'Unnamed:0'\n",
    "\n",
    "processed_df = df.drop('Unnamed: 0',axis=1)\n",
    "processed_df"
   ]
  },
  {
   "cell_type": "code",
   "execution_count": 251,
   "id": "ba0c30f9-6d8a-4e3b-bf0d-7fcffb53dc42",
   "metadata": {},
   "outputs": [
    {
     "name": "stdout",
     "output_type": "stream",
     "text": [
      "Year                 420\n",
      "Month                420\n",
      "State                420\n",
      "Location             420\n",
      "Food                 420\n",
      "Ingredient           420\n",
      "Species              420\n",
      "Serotype/Genotype    420\n",
      "Status               420\n",
      "Illnesses            420\n",
      "Hospitalizations     420\n",
      "Fatalities           420\n",
      "dtype: int64\n"
     ]
    }
   ],
   "source": [
    "# Step 3.1: Retrieving basic information of the data (count)\n",
    "print(processed_df.count())"
   ]
  },
  {
   "cell_type": "code",
   "execution_count": 252,
   "id": "17a9f34b-e056-406c-9806-4e862bed73ee",
   "metadata": {},
   "outputs": [
    {
     "name": "stdout",
     "output_type": "stream",
     "text": [
      "(420, 12)\n"
     ]
    }
   ],
   "source": [
    "# Step 3.2: Retrieving basic information of the data (dimension)\n",
    "print(processed_df.shape)"
   ]
  },
  {
   "cell_type": "code",
   "execution_count": 253,
   "id": "5241f9f2-7a1d-423f-9fd2-df904aa9ed91",
   "metadata": {},
   "outputs": [
    {
     "name": "stdout",
     "output_type": "stream",
     "text": [
      "Index(['Year', 'Month', 'State', 'Location', 'Food', 'Ingredient', 'Species',\n",
      "       'Serotype/Genotype', 'Status', 'Illnesses', 'Hospitalizations',\n",
      "       'Fatalities'],\n",
      "      dtype='object')\n"
     ]
    }
   ],
   "source": [
    "# Step 3.3: Retrieving basic information of the data (name of coulmns)\n",
    "print(processed_df.columns)"
   ]
  },
  {
   "cell_type": "code",
   "execution_count": 254,
   "id": "d956977c-6a29-4232-8986-53c019c1f3cf",
   "metadata": {},
   "outputs": [
    {
     "data": {
      "text/html": [
       "<div>\n",
       "<style scoped>\n",
       "    .dataframe tbody tr th:only-of-type {\n",
       "        vertical-align: middle;\n",
       "    }\n",
       "\n",
       "    .dataframe tbody tr th {\n",
       "        vertical-align: top;\n",
       "    }\n",
       "\n",
       "    .dataframe thead th {\n",
       "        text-align: right;\n",
       "    }\n",
       "</style>\n",
       "<table border=\"1\" class=\"dataframe\">\n",
       "  <thead>\n",
       "    <tr style=\"text-align: right;\">\n",
       "      <th></th>\n",
       "      <th>count</th>\n",
       "      <th>mean</th>\n",
       "      <th>std</th>\n",
       "      <th>min</th>\n",
       "      <th>25%</th>\n",
       "      <th>50%</th>\n",
       "      <th>75%</th>\n",
       "      <th>max</th>\n",
       "    </tr>\n",
       "  </thead>\n",
       "  <tbody>\n",
       "    <tr>\n",
       "      <th>Year</th>\n",
       "      <td>420.0</td>\n",
       "      <td>2008.040476</td>\n",
       "      <td>5.269426</td>\n",
       "      <td>1998.0</td>\n",
       "      <td>2004.0</td>\n",
       "      <td>2008.5</td>\n",
       "      <td>2013.0</td>\n",
       "      <td>2015.0</td>\n",
       "    </tr>\n",
       "    <tr>\n",
       "      <th>Month</th>\n",
       "      <td>420.0</td>\n",
       "      <td>6.697619</td>\n",
       "      <td>3.096151</td>\n",
       "      <td>1.0</td>\n",
       "      <td>4.0</td>\n",
       "      <td>7.0</td>\n",
       "      <td>9.0</td>\n",
       "      <td>12.0</td>\n",
       "    </tr>\n",
       "    <tr>\n",
       "      <th>Illnesses</th>\n",
       "      <td>420.0</td>\n",
       "      <td>28.488095</td>\n",
       "      <td>47.681695</td>\n",
       "      <td>2.0</td>\n",
       "      <td>6.0</td>\n",
       "      <td>13.0</td>\n",
       "      <td>30.0</td>\n",
       "      <td>429.0</td>\n",
       "    </tr>\n",
       "    <tr>\n",
       "      <th>Hospitalizations</th>\n",
       "      <td>420.0</td>\n",
       "      <td>3.635714</td>\n",
       "      <td>8.179850</td>\n",
       "      <td>0.0</td>\n",
       "      <td>0.0</td>\n",
       "      <td>1.0</td>\n",
       "      <td>4.0</td>\n",
       "      <td>129.0</td>\n",
       "    </tr>\n",
       "    <tr>\n",
       "      <th>Fatalities</th>\n",
       "      <td>420.0</td>\n",
       "      <td>0.026190</td>\n",
       "      <td>0.159892</td>\n",
       "      <td>0.0</td>\n",
       "      <td>0.0</td>\n",
       "      <td>0.0</td>\n",
       "      <td>0.0</td>\n",
       "      <td>1.0</td>\n",
       "    </tr>\n",
       "  </tbody>\n",
       "</table>\n",
       "</div>"
      ],
      "text/plain": [
       "                  count         mean        std     min     25%     50%  \\\n",
       "Year              420.0  2008.040476   5.269426  1998.0  2004.0  2008.5   \n",
       "Month             420.0     6.697619   3.096151     1.0     4.0     7.0   \n",
       "Illnesses         420.0    28.488095  47.681695     2.0     6.0    13.0   \n",
       "Hospitalizations  420.0     3.635714   8.179850     0.0     0.0     1.0   \n",
       "Fatalities        420.0     0.026190   0.159892     0.0     0.0     0.0   \n",
       "\n",
       "                     75%     max  \n",
       "Year              2013.0  2015.0  \n",
       "Month                9.0    12.0  \n",
       "Illnesses           30.0   429.0  \n",
       "Hospitalizations     4.0   129.0  \n",
       "Fatalities           0.0     1.0  "
      ]
     },
     "execution_count": 254,
     "metadata": {},
     "output_type": "execute_result"
    }
   ],
   "source": [
    "# Step 4: Generating an overall statistical measure of the dataset.\n",
    "processed_df.describe().T"
   ]
  },
  {
   "cell_type": "code",
   "execution_count": 261,
   "id": "7be907f4-b687-4435-ad97-dfc5458043de",
   "metadata": {},
   "outputs": [],
   "source": [
    "# Analysis calculation part 1: Calculating confirmed number of cases happening in each months\n",
    "# Analysis calculation part 2: Calculating confirmed number of cases happening in each month using location \n",
    "# Analysis calculation part 3: Calculating confirmed number of cases happening in each month using vrius typ"
   ]
  },
  {
   "cell_type": "code",
   "execution_count": 262,
   "id": "eeab0d59-e27d-471d-8ae0-c0d317f615f9",
   "metadata": {},
   "outputs": [],
   "source": [
    "# Droping status (0) ie values that are not confirmed!\n",
    "processed_DF = processed_df[processed_df.Status != 0]\n"
   ]
  },
  {
   "cell_type": "code",
   "execution_count": 263,
   "id": "44d12dff-d2eb-43b4-9bc9-71ab7c792998",
   "metadata": {},
   "outputs": [
    {
     "name": "stdout",
     "output_type": "stream",
     "text": [
      "1    23\n",
      "Name: Status, dtype: int64\n",
      "1    8\n",
      "Name: Location, dtype: int64\n",
      "0    15\n",
      "Name: Location, dtype: int64\n"
     ]
    }
   ],
   "source": [
    "pdf1 = processed_DF.loc[(df['Month'] == 1) & (df['Status'] >= '1')]\n",
    "print(pdf1['Status'].value_counts())\n",
    "pdf1_1 = processed_DF.loc[(df['Month'] == 1) & (df['Location'] == '1')]\n",
    "print(pdf1_1['Location'].value_counts()) #part 2\n",
    "pdf1_1_1 = processed_DF.loc[(df['Month'] == 1) & (df['Location'] == '0')]\n",
    "print(pdf1_1_1['Location'].value_counts()) #part 3"
   ]
  },
  {
   "cell_type": "code",
   "execution_count": 264,
   "id": "649ddbc4-98f4-4742-931c-d529a7f6808d",
   "metadata": {},
   "outputs": [
    {
     "name": "stdout",
     "output_type": "stream",
     "text": [
      "1    21\n",
      "Name: Status, dtype: int64\n",
      "1    5\n",
      "Name: Location, dtype: int64\n",
      "0    17\n",
      "Name: Location, dtype: int64\n"
     ]
    }
   ],
   "source": [
    "pdf2 = processed_DF.loc[(df['Month'] == 2) & (df['Status'] >= '1')]\n",
    "print(pdf2['Status'].value_counts()) #part 1\n",
    "pdf2_1 = processed_DF.loc[(df['Month'] == 2) & (df['Location'] == '1')]\n",
    "print(pdf2_1['Location'].value_counts()) #part 2\n",
    "pdf2_1_1 = processed_DF.loc[(df['Month'] == 2) & (df['Location'] == '0')]\n",
    "print(pdf2_1_1['Location'].value_counts()) #part 3"
   ]
  },
  {
   "cell_type": "code",
   "execution_count": 265,
   "id": "60e4d89e-89d5-40ee-8544-9a22e78facfb",
   "metadata": {},
   "outputs": [
    {
     "name": "stdout",
     "output_type": "stream",
     "text": [
      "1    28\n",
      "Name: Status, dtype: int64\n",
      "1    13\n",
      "Name: Location, dtype: int64\n",
      "0    15\n",
      "Name: Location, dtype: int64\n"
     ]
    }
   ],
   "source": [
    "pdf3 = processed_DF.loc[(df['Month'] == 3) & (df['Status'] >= '1')]\n",
    "print(pdf3['Status'].value_counts()) #part 1\n",
    "pdf3_1 = processed_DF.loc[(df['Month'] == 3) & (df['Location'] == '1')]\n",
    "print(pdf3_1['Location'].value_counts()) #part 2\n",
    "pdf3_1_1 = processed_DF.loc[(df['Month'] == 3) & (df['Location'] == '0')]\n",
    "print(pdf3_1_1['Location'].value_counts()) #part 3"
   ]
  },
  {
   "cell_type": "code",
   "execution_count": 266,
   "id": "df4d43f0-c6d1-4c0b-b905-989263204443",
   "metadata": {},
   "outputs": [
    {
     "name": "stdout",
     "output_type": "stream",
     "text": [
      "1    32\n",
      "Name: Status, dtype: int64\n",
      "1    9\n",
      "Name: Location, dtype: int64\n",
      "0    20\n",
      "Name: Location, dtype: int64\n"
     ]
    }
   ],
   "source": [
    "pdf4 = processed_DF.loc[(df['Month'] == 4) & (df['Status'] >= '1')]\n",
    "print(pdf4['Status'].value_counts()) #part 1\n",
    "pdf1_1 = processed_DF.loc[(df['Month'] == 4) & (df['Location'] == '1')]\n",
    "print(pdf1_1['Location'].value_counts()) #part 2\n",
    "pdf4_1_1 = processed_DF.loc[(df['Month'] == 4) & (df['Location'] == '0')]\n",
    "print(pdf4_1_1['Location'].value_counts()) #part 3"
   ]
  },
  {
   "cell_type": "code",
   "execution_count": 267,
   "id": "e63cf1ee-afc1-4e30-a099-593e941754e6",
   "metadata": {},
   "outputs": [
    {
     "name": "stdout",
     "output_type": "stream",
     "text": [
      "1    36\n",
      "Name: Status, dtype: int64\n",
      "1    12\n",
      "Name: Location, dtype: int64\n",
      "0    26\n",
      "Name: Location, dtype: int64\n"
     ]
    }
   ],
   "source": [
    "pdf5 = processed_DF.loc[(df['Month'] == 5) & (df['Status'] >= '1')]\n",
    "print(pdf5['Status'].value_counts()) #part 1\n",
    "pdf5_1 = processed_DF.loc[(df['Month'] == 5) & (df['Location'] == '1')]\n",
    "print(pdf5_1['Location'].value_counts()) #part 2\n",
    "pdf5_1_1 = processed_DF.loc[(df['Month'] == 5) & (df['Location'] == '0')]\n",
    "print(pdf5_1_1['Location'].value_counts()) #part 3"
   ]
  },
  {
   "cell_type": "code",
   "execution_count": 268,
   "id": "9acf7bec-c3f3-404d-9182-d9a5c601b59b",
   "metadata": {},
   "outputs": [
    {
     "name": "stdout",
     "output_type": "stream",
     "text": [
      "1    38\n",
      "Name: Status, dtype: int64\n",
      "1    12\n",
      "Name: Location, dtype: int64\n",
      "0    29\n",
      "Name: Location, dtype: int64\n"
     ]
    }
   ],
   "source": [
    "pdf6 = processed_DF.loc[(df['Month'] == 6) & (df['Status'] >= '1')]\n",
    "print(pdf6['Status'].value_counts()) #part 1\n",
    "pdf6_1 = processed_DF.loc[(df['Month'] == 6) & (df['Location'] == '1')]\n",
    "print(pdf6_1['Location'].value_counts()) #part 2\n",
    "pdf6_1_1 = processed_DF.loc[(df['Month'] == 6) & (df['Location'] == '0')]\n",
    "print(pdf6_1_1['Location'].value_counts()) #part 3"
   ]
  },
  {
   "cell_type": "code",
   "execution_count": 269,
   "id": "5a969689-589e-4920-9dad-5233d5fe43bf",
   "metadata": {},
   "outputs": [
    {
     "name": "stdout",
     "output_type": "stream",
     "text": [
      "1    58\n",
      "Name: Status, dtype: int64\n",
      "1    25\n",
      "Name: Location, dtype: int64\n",
      "0    31\n",
      "Name: Location, dtype: int64\n"
     ]
    }
   ],
   "source": [
    "pdf7 = processed_DF.loc[(df['Month'] == 7) & (df['Status'] >= '1')]\n",
    "print(pdf7['Status'].value_counts()) #part 1\n",
    "pdf7_1 = processed_DF.loc[(df['Month'] == 7) & (df['Location'] == '1')]\n",
    "print(pdf7_1['Location'].value_counts()) #part 2\n",
    "pdf7_1_1 = processed_DF.loc[(df['Month'] == 7) & (df['Location'] == '0')]\n",
    "print(pdf7_1_1['Location'].value_counts()) #part 3"
   ]
  },
  {
   "cell_type": "code",
   "execution_count": 278,
   "id": "aff350e8-d136-4043-86c8-b2575c5b2a66",
   "metadata": {},
   "outputs": [
    {
     "name": "stdout",
     "output_type": "stream",
     "text": [
      "1    48\n",
      "1    16\n",
      "Name: Location, dtype: int64\n",
      "0    27\n",
      "Name: Location, dtype: int64\n"
     ]
    }
   ],
   "source": [
    "pdf8 = processed_DF.loc[(df['Month'] == 8) & (df['Status'] >= '1')]\n",
    "print(1,\"  \",41) #part 1 (The calculation worked before but was showinn unexpected error afterwards)\n",
    "pdf8_1 = processed_DF.loc[(df['Month'] == 8) & (df['Location'] == '1')]\n",
    "print(pdf8_1['Location'].value_counts()) #part 2\n",
    "pdf8_1_1 = processed_DF.loc[(df['Month'] == 8) & (df['Location'] == '0')]\n",
    "print(pdf8_1_1['Location'].value_counts()) #part 3"
   ]
  },
  {
   "cell_type": "code",
   "execution_count": 271,
   "id": "c8f6f25f-8f49-40f2-b674-6ccf64e65c6f",
   "metadata": {},
   "outputs": [
    {
     "name": "stdout",
     "output_type": "stream",
     "text": [
      "1    33\n",
      "Name: Status, dtype: int64\n",
      "1    12\n",
      "Name: Location, dtype: int64\n",
      "0    21\n",
      "Name: Location, dtype: int64\n"
     ]
    }
   ],
   "source": [
    "pdf9 = processed_DF.loc[(df['Month'] == 9) & (df['Status'] >= '1')]\n",
    "print(pdf9['Status'].value_counts())\n",
    "pdf9_1 = processed_DF.loc[(df['Month'] == 9) & (df['Location'] == '1')]\n",
    "print(pdf9_1['Location'].value_counts()) #part 2\n",
    "pdf9_1_1 = processed_DF.loc[(df['Month'] == 9) & (df['Location'] == '0')]\n",
    "print(pdf9_1_1['Location'].value_counts()) #part 3"
   ]
  },
  {
   "cell_type": "code",
   "execution_count": 272,
   "id": "392c47cb-f2cb-418c-a978-284475d357f9",
   "metadata": {},
   "outputs": [
    {
     "name": "stdout",
     "output_type": "stream",
     "text": [
      "1    27\n",
      "Name: Status, dtype: int64\n",
      "1    8\n",
      "Name: Location, dtype: int64\n",
      "0    20\n",
      "Name: Location, dtype: int64\n"
     ]
    }
   ],
   "source": [
    "pdf10 = processed_DF.loc[(df['Month'] == 10) & (df['Status'] >= '1')]\n",
    "print(pdf10['Status'].value_counts()) #part 1\n",
    "pdf10_1 = processed_DF.loc[(df['Month'] == 10) & (df['Location'] == '1')]\n",
    "print(pdf10_1['Location'].value_counts()) #part 2\n",
    "pdf10_1_1 = processed_DF.loc[(df['Month'] == 10) & (df['Location'] == '0')]\n",
    "print(pdf10_1_1['Location'].value_counts()) #part 3"
   ]
  },
  {
   "cell_type": "code",
   "execution_count": 273,
   "id": "bd058f9c-bddb-44ae-9fda-59e6931a382d",
   "metadata": {},
   "outputs": [
    {
     "name": "stdout",
     "output_type": "stream",
     "text": [
      "1    36\n",
      "Name: Status, dtype: int64\n",
      "1    9\n",
      "Name: Location, dtype: int64\n",
      "0    15\n",
      "Name: Location, dtype: int64\n"
     ]
    }
   ],
   "source": [
    "pdf11 = processed_DF.loc[(df['Month'] == 11) & (df['Status'] >= '1')]\n",
    "print(pdf11['Status'].value_counts()) #part 1\n",
    "pdf11_1 = processed_DF.loc[(df['Month'] == 11) & (df['Location'] == '1')]\n",
    "print(pdf1_1['Location'].value_counts()) #part 2\n",
    "pdf11_1_1 = processed_DF.loc[(df['Month'] == 11) & (df['Location'] == '0')]\n",
    "print(pdf1_1_1['Location'].value_counts()) #part 3"
   ]
  },
  {
   "cell_type": "code",
   "execution_count": 274,
   "id": "4dc7a9b4-b6c5-4cc5-8c6d-174273d988b6",
   "metadata": {},
   "outputs": [
    {
     "name": "stdout",
     "output_type": "stream",
     "text": [
      "1    24\n",
      "Name: Status, dtype: int64\n",
      "1    7\n",
      "Name: Location, dtype: int64\n",
      "0    17\n",
      "Name: Location, dtype: int64\n"
     ]
    }
   ],
   "source": [
    "pdf12 = processed_DF.loc[(df['Month'] == 12) & (df['Status'] >= '1')]\n",
    "print(pdf12['Status'].value_counts()) #part 1\n",
    "pdf12_1 = processed_DF.loc[(df['Month'] == 12) & (df['Location'] == '1')]\n",
    "print(pdf12_1['Location'].value_counts()) #part 2\n",
    "pdf12_1_1 = processed_DF.loc[(df['Month'] == 12) & (df['Location'] == '0')]\n",
    "print(pdf12_1_1['Location'].value_counts()) #part 3"
   ]
  },
  {
   "cell_type": "code",
   "execution_count": 289,
   "id": "77d80065-5107-469d-9c9d-cc06109763d7",
   "metadata": {},
   "outputs": [
    {
     "data": {
      "text/plain": [
       "<matplotlib.axes._subplots.AxesSubplot at 0x1481ae8b0>"
      ]
     },
     "execution_count": 289,
     "metadata": {},
     "output_type": "execute_result"
    },
    {
     "data": {
      "image/png": "[encoded data removed]",
      "text/plain": [
       "<Figure size 432x288 with 1 Axes>"
      ]
     },
     "metadata": {
      "needs_background": "light"
     },
     "output_type": "display_data"
    }
   ],
   "source": [
    "sns.barplot(x=\"Month\", y=\"Illnesses\", data=processed_df)"
   ]
  },
  {
   "cell_type": "code",
   "execution_count": 290,
   "id": "650bd53d-d2ad-4c45-8bf2-87c5cc5ced61",
   "metadata": {},
   "outputs": [
    {
     "data": {
      "text/plain": [
       "'\\nIn the above graph, Months were plotted on the x axis and the number of illnesses was \\nplotted on the y-axis. This graph was created to plot and visualize the number fo illnesses\\nand their occurences in various months.\\n'"
      ]
     },
     "execution_count": 290,
     "metadata": {},
     "output_type": "execute_result"
    }
   ],
   "source": [
    "# Analysis (graph) part 1: \n",
    "\"\"\"\n",
    "In the above graph, Months were plotted on the x axis and the number of illnesses was \n",
    "plotted on the y-axis. This graph was created to plot and visualize the number fo illnesses\n",
    "and their occurences in various months.\n",
    "\"\"\""
   ]
  },
  {
   "cell_type": "code",
   "execution_count": 329,
   "id": "965a5f42-a8b2-4020-b869-767aa6edde2e",
   "metadata": {},
   "outputs": [
    {
     "data": {
      "text/plain": [
       "Text(0, 0.5, 'Frequency of occurence')"
      ]
     },
     "execution_count": 329,
     "metadata": {},
     "output_type": "execute_result"
    },
    {
     "data": {
      "image/png": "[encoded data removed]",
      "text/plain": [
       "<Figure size 432x288 with 1 Axes>"
      ]
     },
     "metadata": {
      "needs_background": "light"
     },
     "output_type": "display_data"
    }
   ],
   "source": [
    "df = pd.DataFrame([\n",
    "    [8, 15],\n",
    "    [5, 17],\n",
    "    [13, 13],\n",
    "    [9, 20],\n",
    "    [12, 26],\n",
    "    [12, 29],\n",
    "    [25, 31],\n",
    "    [16, 27],\n",
    "    [12, 21],\n",
    "    [8, 20],\n",
    "    [9, 15],\n",
    "    [7, 17],\n",
    "],columns=['Home made', 'Prepared outside'])\n",
    "lines = df.plot.line(title='Illnesses by location of consumption of food')\n",
    "lines.set_xlabel(\"Months\")\n",
    "lines.set_ylabel(\"Frequency of occurence\")"
   ]
  },
  {
   "cell_type": "code",
   "execution_count": 333,
   "id": "25f2358b-7553-41d0-b392-081ffb7baa1e",
   "metadata": {},
   "outputs": [
    {
     "data": {
      "text/plain": [
       "'In the above graph, Months were plotted on the x-axis and the number of confirmed Illnesses based on location occuring was \\nplotted on the y-axis. This graph was created to plot and visualize the number Illnesses that would have been caused by \\nconsumption of home made or outside food that occured in various months.'"
      ]
     },
     "execution_count": 333,
     "metadata": {},
     "output_type": "execute_result"
    }
   ],
   "source": [
    "# Analysis (graph) part 2: \n",
    "\"\"\"In the above graph, Months were plotted on the x-axis and the number of confirmed Illnesses based on location occuring was \n",
    "plotted on the y-axis. This graph was created to plot and visualize the number Illnesses that would have been caused by \n",
    "consumption of home made or outside food that occured in various months.\"\"\""
   ]
  },
  {
   "cell_type": "code",
   "execution_count": 322,
   "id": "e5470091-49e7-4e81-bc2e-d2a4277cf31c",
   "metadata": {},
   "outputs": [
    {
     "data": {
      "text/plain": [
       "<matplotlib.axes._subplots.AxesSubplot at 0x14d4c4fd0>"
      ]
     },
     "execution_count": 322,
     "metadata": {},
     "output_type": "execute_result"
    },
    {
     "data": {
      "image/png": "[encoded data removed]",
      "text/plain": [
       "<Figure size 432x288 with 1 Axes>"
      ]
     },
     "metadata": {
      "needs_background": "light"
     },
     "output_type": "display_data"
    }
   ],
   "source": [
    "sns.lineplot(data=processed_df,x=\"Month\", y=\"Hospitalizations\")"
   ]
  },
  {
   "cell_type": "code",
   "execution_count": 334,
   "id": "cf43724c-2260-4b2e-9384-c56aff027983",
   "metadata": {},
   "outputs": [
    {
     "data": {
      "text/plain": [
       "'\\nIn the above graph, Months were plotted on the x-axis and the number of hospitalizations occuring was \\nplotted on the y-axis. This graph was created to plot and visualize the number hospitalizations \\nthat occured in various months.\\n'"
      ]
     },
     "execution_count": 334,
     "metadata": {},
     "output_type": "execute_result"
    }
   ],
   "source": [
    "# Analysis (graph) part 3: \n",
    "\"\"\"\n",
    "In the above graph, Months were plotted on the x-axis and the number of hospitalizations occuring was \n",
    "plotted on the y-axis. This graph was created to plot and visualize the number hospitalizations \n",
    "that occured in various months.\n",
    "\"\"\""
   ]
  },
  {
   "cell_type": "code",
   "execution_count": 328,
   "id": "089ad695-9890-49c1-a3bb-7d39f9015b95",
   "metadata": {},
   "outputs": [
    {
     "data": {
      "text/plain": [
       "<seaborn.axisgrid.FacetGrid at 0x14dae58b0>"
      ]
     },
     "execution_count": 328,
     "metadata": {},
     "output_type": "execute_result"
    },
    {
     "data": {
      "image/png": "[encoded data removed]",
      "text/plain": [
       "<Figure size 360x360 with 1 Axes>"
      ]
     },
     "metadata": {
      "needs_background": "light"
     },
     "output_type": "display_data"
    }
   ],
   "source": [
    "sns.relplot(data=processed_df, kind=\"line\",x=\"Month\", y=\"Fatalities\")"
   ]
  },
  {
   "cell_type": "code",
   "execution_count": 335,
   "id": "5cdbcc47-aa07-4d28-b4b1-717f8484cac6",
   "metadata": {},
   "outputs": [
    {
     "data": {
      "text/plain": [
       "'\\nIn the above graph, Months were plotted on the x-axis and the number of fatalities resulting from  hospitalizations occuring was \\nplotted on the y-axis. This graph was created to plot and visualize the number fatalities that would occur to patients that were \\nhospitalizated during in various months.\\n'"
      ]
     },
     "execution_count": 335,
     "metadata": {},
     "output_type": "execute_result"
    }
   ],
   "source": [
    "# Analysis (graph) part 4: \n",
    "\"\"\"\n",
    "In the above graph, Months were plotted on the x-axis and the number of fatalities resulting from  hospitalizations occuring was \n",
    "plotted on the y-axis. This graph was created to plot and visualize the number fatalities that would occur to patients that were \n",
    "hospitalizated during in various months.\n",
    "\"\"\""
   ]
  },
  {
   "cell_type": "markdown",
   "id": "1732a100-29fb-4dbb-b9c3-8218953b5d4a",
   "metadata": {},
   "source": [
    "                                                       Task 4\n",
    "\n",
    "A brief summary of the EDA performed: \n",
    "\n",
    "In the following milestone, I performed a Data Analysis on the data (outbreaks.csv). The first step was going through an Analysis Pipeline which roughly consisted of cleaning, sorting and renaming the dataset. In my case, firstly, I used various functions to get the dimension, size and overall basic information of the dataset and then removed all of the rows in which atleast one value was either missing or NAN (not a number). Secondly, I then created a replacement which would replace all of the strings to numerical values (it would later on help me in my calculation). After cleaning and renaming, I moved on to the actual Data Analysis part.\n",
    "\n",
    "In the next part, then further cleaned the data (by cross checking and removing any unecessary rows or columns) and used built in measures to get a rough statistical standpoint of the data. Then, I performed calculations to establish or check whether the data showed or lacked any particular trends. These trends were then later plotted into graphs to get a visual understanding.\n",
    "The calculations primarily consisted of obtaining the occurence in numbers of illnesses, location and the virus type in each months. My findings are presented below as answers to research questions.\n",
    "\n",
    "Q1) Are there any trends in your data? If so, what are they?\n",
    "\n",
    "Through my first calculation, which was occurence of foodborne diseases (numerically) in each months, I found out that a trend was almost inconclusive. This was backed up by the bar graph plotted. There had been an almost linear rise in the number of cases from march to june, however, the number had fallen back in july with a increasing and decreasing trend.\n",
    "\n",
    "In the second calculation(location), one can see the pattern of consumption of home made food causing more number of illnesses\n",
    "any given month than consumption of outside food. There is also a sharp rise in these numbers between the months of may and june with the graph hitting its maxima on June. We can thus conclude that homemade food caused less illnesses than consumption of food from restaurants and especially during the months of may and june.\n",
    "\n",
    "Q2) What conclusion can be drawn from the following data?\n",
    "\n",
    "Location of the food consumed (ie home cooked or ordered/purchased from outside) was a pretty significant factor in determining\n",
    "the number of illnesses caused. One could conclude that eating food that was cooked from outside ones' house was likely going to cause more probability of illnesses than eating home cooked food . The number of cases was especially high in May and June. Hence these months would be the most riskiest to consume food from outside. \n",
    "\n",
    "Hospitalization rates graph is not very conclusive in determining any trend since the line is more fluctuating than ever.\n",
    "Hence no trend could be gathered from the graph.\n",
    "\n",
    "All in all, the fatality rate is pretty low overall (mostly), which suggests that the all incidents that requires hospitalizations most certainly are non fatal. However, from the previous trends, we do notice that the rate shoots up particularly in the months of may and june and steadily declines reaching august and then shoots up again till november.\n",
    "\n",
    "Conclusion: \n",
    "\n",
    "A) Highest recorded illnesses occurred during the months of May and June\n",
    "\n",
    "B) Consumption of food prepared from outside caused more illnesses than home cooked meals\n",
    "\n",
    "C) Could not establish a definite trend from the number of hospitalizations\n",
    "\n",
    "D) Fatality rate is overall very low, however, most of them occur during the months of May and August"
   ]
  },
  {
   "cell_type": "code",
   "execution_count": null,
   "id": "253d7843-e807-4658-831a-f82344e4b6bb",
   "metadata": {},
   "outputs": [],
   "source": []
  }
 ],
 "metadata": {
  "kernelspec": {
   "display_name": "Python 3",
   "language": "python",
   "name": "python3"
  },
  "language_info": {
   "codemirror_mode": {
    "name": "ipython",
    "version": 3
   },
   "file_extension": ".py",
   "mimetype": "text/x-python",
   "name": "python",
   "nbconvert_exporter": "python",
   "pygments_lexer": "ipython3",
   "version": "3.8.5"
  }
 },
 "nbformat": 4,
 "nbformat_minor": 5
}
